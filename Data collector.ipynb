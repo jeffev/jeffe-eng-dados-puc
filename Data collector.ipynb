{
 "cells": [
  {
   "cell_type": "markdown",
   "metadata": {
    "application/vnd.databricks.v1+cell": {
     "cellMetadata": {
      "byteLimit": 2048000,
      "rowLimit": 10000
     },
     "inputWidgets": {},
     "nuid": "e047fd2f-8dde-4390-9818-a76075ce402d",
     "showTitle": false,
     "title": ""
    }
   },
   "source": [
    "# Introducao\n",
    "\n",
    "Neste projeto, vamos construir um pipeline de dados utilizando a plataforma Databricks para coletar, transformar e analisar dados financeiros históricos de empresas do índice IBXX. Usaremos uma API para obter os dados necessários, focando em indicadores financeiros e desempenho das ações ao longo do tempo.\n",
    "\n",
    "#### Objetivo\n",
    "\n",
    "Nosso objetivo é desenvolver um pipeline robusto que permita entender e analisar a saúde financeira e o desempenho de ações das empresas do IBXX. As principais perguntas que pretendemos responder incluem:\n",
    "\n",
    "1. **Como os indicadores financeiros evoluíram ao longo do tempo?**\n",
    "2. **Quais indicadores têm maior influência no preço das ações?**\n",
    "3. **Quais empresas apresentam maior estabilidade financeira?**\n",
    "4. **Como a dívida impacta o desempenho das empresas?**\n",
    "5. **Quais empresas utilizam seus ativos de forma mais eficiente?**\n"
   ]
  },
  {
   "cell_type": "markdown",
   "metadata": {
    "application/vnd.databricks.v1+cell": {
     "cellMetadata": {
      "byteLimit": 2048000,
      "rowLimit": 10000
     },
     "inputWidgets": {},
     "nuid": "f26a2a47-6bc3-4120-a5e6-2d51f011074b",
     "showTitle": false,
     "title": ""
    }
   },
   "source": [
    "## Busca e coleta de dados"
   ]
  },
  {
   "cell_type": "code",
   "execution_count": 0,
   "metadata": {
    "application/vnd.databricks.v1+cell": {
     "cellMetadata": {
      "byteLimit": 2048000,
      "rowLimit": 10000
     },
     "inputWidgets": {},
     "nuid": "8d24f8b0-a120-4837-8c68-1e011ce70868",
     "showTitle": false,
     "title": ""
    }
   },
   "outputs": [],
   "source": [
    "import os\n",
    "import requests\n",
    "from dotenv import load_dotenv\n",
    "import time\n",
    "from pyspark.sql import SparkSession\n",
    "from pyspark.sql import Row\n",
    "from pyspark.sql.functions import col, count, when\n",
    "from tqdm import tqdm\n",
    "\n",
    "load_dotenv()\n",
    "\n",
    "api_token = os.getenv('Token')\n",
    "\n",
    "spark = SparkSession.builder.appName(\"API Data Collector\").getOrCreate()"
   ]
  },
  {
   "cell_type": "code",
   "execution_count": 0,
   "metadata": {
    "application/vnd.databricks.v1+cell": {
     "cellMetadata": {
      "byteLimit": 2048000,
      "rowLimit": 10000
     },
     "inputWidgets": {},
     "nuid": "629cd224-2eaa-4ed7-a3e2-c2509b17ed6e",
     "showTitle": false,
     "title": ""
    }
   },
   "outputs": [],
   "source": [
    "# Função para obter a lista de empresas com base nos tickers\n",
    "def get_companies(tickers):\n",
    "    url = \"https://api.dadosdemercado.com.br/v1/companies\"\n",
    "    headers = {\n",
    "        \"Authorization\": f\"Bearer {api_token}\"\n",
    "    }\n",
    "    \n",
    "    response = requests.get(url, headers=headers)\n",
    "    \n",
    "    if response.status_code == 200:\n",
    "        companies = response.json()\n",
    "        return [company for company in companies if company['b3_issuer_code'] in tickers]\n",
    "    else:\n",
    "        print(f\"Erro ao acessar a API: {response.status_code}\")\n",
    "        return None\n"
   ]
  },
  {
   "cell_type": "code",
   "execution_count": 0,
   "metadata": {
    "application/vnd.databricks.v1+cell": {
     "cellMetadata": {
      "byteLimit": 2048000,
      "rowLimit": 10000
     },
     "inputWidgets": {},
     "nuid": "06800615-2af8-47ad-b9ec-53f51e6281e2",
     "showTitle": false,
     "title": ""
    }
   },
   "outputs": [],
   "source": [
    "# Função para coletar indicadores de mercado\n",
    "def get_market_ratios(cvm_code, statement_type, period_init, period_end):\n",
    "    url = f\"https://api.dadosdemercado.com.br/v1/companies/{cvm_code}/market_ratios\"\n",
    "    headers = {\n",
    "        \"Authorization\": f\"Bearer {api_token}\"\n",
    "    }\n",
    "    params = {\n",
    "        \"statement_type\": statement_type,\n",
    "        \"period_init\": period_init,\n",
    "        \"period_end\": period_end\n",
    "    }\n",
    "    \n",
    "    response = requests.get(url, headers=headers, params=params)\n",
    "    \n",
    "    if response.status_code == 200:\n",
    "        return response.json()\n",
    "    else:\n",
    "        print(f\"Erro ao acessar a API: {response.status_code}\")\n",
    "        return None\n"
   ]
  },
  {
   "cell_type": "code",
   "execution_count": 0,
   "metadata": {
    "application/vnd.databricks.v1+cell": {
     "cellMetadata": {
      "byteLimit": 2048000,
      "rowLimit": 10000
     },
     "inputWidgets": {},
     "nuid": "14ed9c3d-6b06-4f82-95a1-ba71d68eb53d",
     "showTitle": false,
     "title": ""
    }
   },
   "outputs": [],
   "source": [
    "# Função para coletar indicadores financeiros\n",
    "def get_ratios(cvm_code, statement_type, period_type, period_init, period_end):\n",
    "    url = f\"https://api.dadosdemercado.com.br/v1/companies/{cvm_code}/ratios\"\n",
    "    headers = {\n",
    "        \"Authorization\": f\"Bearer {api_token}\"\n",
    "    }\n",
    "    params = {\n",
    "        \"statement_type\": statement_type,\n",
    "        \"period_type\": period_type,\n",
    "        \"period_init\": period_init,\n",
    "        \"period_end\": period_end\n",
    "    }\n",
    "    \n",
    "    response = requests.get(url, headers=headers, params=params)\n",
    "    \n",
    "    if response.status_code == 200:\n",
    "        return response.json()\n",
    "    else:\n",
    "        print(f\"Erro ao acessar a API: {response.status_code}\")\n",
    "        return None\n"
   ]
  },
  {
   "cell_type": "code",
   "execution_count": 0,
   "metadata": {
    "application/vnd.databricks.v1+cell": {
     "cellMetadata": {
      "byteLimit": 2048000,
      "rowLimit": 10000
     },
     "inputWidgets": {},
     "nuid": "1d0bbafd-dcbe-423d-9870-083b5fc5e963",
     "showTitle": false,
     "title": ""
    }
   },
   "outputs": [
    {
     "output_type": "stream",
     "name": "stderr",
     "output_type": "stream",
     "text": [
      "\rProcessando Empresas:   0%|          | 0/91 [00:00<?, ?empresa/s]"
     ]
    },
    {
     "output_type": "stream",
     "name": "stdout",
     "output_type": "stream",
     "text": [
      "Acessando empresa com Ticker: BBDC\nErro ao acessar a API: 400\n"
     ]
    },
    {
     "output_type": "stream",
     "name": "stderr",
     "output_type": "stream",
     "text": [
      "\rProcessando Empresas:   1%|          | 1/91 [00:05<07:46,  5.18s/empresa]"
     ]
    },
    {
     "output_type": "stream",
     "name": "stdout",
     "output_type": "stream",
     "text": [
      "Acessando empresa com Ticker: BBAS\nErro ao acessar a API: 400\n"
     ]
    },
    {
     "output_type": "stream",
     "name": "stderr",
     "output_type": "stream",
     "text": [
      "\rProcessando Empresas:   2%|▏         | 2/91 [00:09<07:21,  4.97s/empresa]"
     ]
    },
    {
     "output_type": "stream",
     "name": "stdout",
     "output_type": "stream",
     "text": [
      "Acessando empresa com Ticker: ELET\n"
     ]
    },
    {
     "output_type": "stream",
     "name": "stderr",
     "output_type": "stream",
     "text": [
      "\rProcessando Empresas:   3%|▎         | 3/91 [00:17<08:57,  6.11s/empresa]"
     ]
    },
    {
     "output_type": "stream",
     "name": "stdout",
     "output_type": "stream",
     "text": [
      "Acessando empresa com Ticker: CMIG\n"
     ]
    },
    {
     "output_type": "stream",
     "name": "stderr",
     "output_type": "stream",
     "text": [
      "\rProcessando Empresas:   4%|▍         | 4/91 [00:24<09:31,  6.57s/empresa]"
     ]
    },
    {
     "output_type": "stream",
     "name": "stdout",
     "output_type": "stream",
     "text": [
      "Acessando empresa com Ticker: GGBR\n"
     ]
    },
    {
     "output_type": "stream",
     "name": "stderr",
     "output_type": "stream",
     "text": [
      "\rProcessando Empresas:   5%|▌         | 5/91 [00:31<09:42,  6.77s/empresa]"
     ]
    },
    {
     "output_type": "stream",
     "name": "stdout",
     "output_type": "stream",
     "text": [
      "Acessando empresa com Ticker: CSNA\n"
     ]
    },
    {
     "output_type": "stream",
     "name": "stderr",
     "output_type": "stream",
     "text": [
      "\rProcessando Empresas:   7%|▋         | 6/91 [00:37<09:05,  6.42s/empresa]"
     ]
    },
    {
     "output_type": "stream",
     "name": "stdout",
     "output_type": "stream",
     "text": [
      "Acessando empresa com Ticker: VALE\n"
     ]
    },
    {
     "output_type": "stream",
     "name": "stderr",
     "output_type": "stream",
     "text": [
      "\rProcessando Empresas:   8%|▊         | 7/91 [00:43<08:38,  6.17s/empresa]"
     ]
    },
    {
     "output_type": "stream",
     "name": "stdout",
     "output_type": "stream",
     "text": [
      "Acessando empresa com Ticker: BRKM\n"
     ]
    },
    {
     "output_type": "stream",
     "name": "stderr",
     "output_type": "stream",
     "text": [
      "\rProcessando Empresas:   9%|▉         | 8/91 [00:50<08:49,  6.38s/empresa]"
     ]
    },
    {
     "output_type": "stream",
     "name": "stdout",
     "output_type": "stream",
     "text": [
      "Acessando empresa com Ticker: RADL\nErro ao acessar a API: 400\n"
     ]
    },
    {
     "output_type": "stream",
     "name": "stderr",
     "output_type": "stream",
     "text": [
      "\rProcessando Empresas:  10%|▉         | 9/91 [00:54<08:04,  5.91s/empresa]"
     ]
    },
    {
     "output_type": "stream",
     "name": "stdout",
     "output_type": "stream",
     "text": [
      "Acessando empresa com Ticker: WEGE\n"
     ]
    },
    {
     "output_type": "stream",
     "name": "stderr",
     "output_type": "stream",
     "text": [
      "\rProcessando Empresas:  11%|█         | 10/91 [01:01<08:07,  6.02s/empresa]"
     ]
    },
    {
     "output_type": "stream",
     "name": "stdout",
     "output_type": "stream",
     "text": [
      "Acessando empresa com Ticker: ITSA\n"
     ]
    },
    {
     "output_type": "stream",
     "name": "stderr",
     "output_type": "stream",
     "text": [
      "\rProcessando Empresas:  12%|█▏        | 11/91 [01:07<08:19,  6.24s/empresa]"
     ]
    },
    {
     "output_type": "stream",
     "name": "stdout",
     "output_type": "stream",
     "text": [
      "Acessando empresa com Ticker: LREN\n"
     ]
    },
    {
     "output_type": "stream",
     "name": "stderr",
     "output_type": "stream",
     "text": [
      "\rProcessando Empresas:  13%|█▎        | 12/91 [01:13<07:59,  6.07s/empresa]"
     ]
    },
    {
     "output_type": "stream",
     "name": "stdout",
     "output_type": "stream",
     "text": [
      "Acessando empresa com Ticker: POMO\n"
     ]
    },
    {
     "output_type": "stream",
     "name": "stderr",
     "output_type": "stream",
     "text": [
      "\rProcessando Empresas:  14%|█▍        | 13/91 [01:21<08:25,  6.49s/empresa]"
     ]
    },
    {
     "output_type": "stream",
     "name": "stdout",
     "output_type": "stream",
     "text": [
      "Acessando empresa com Ticker: GOAU\n"
     ]
    },
    {
     "output_type": "stream",
     "name": "stderr",
     "output_type": "stream",
     "text": [
      "\rProcessando Empresas:  15%|█▌        | 14/91 [01:28<08:36,  6.71s/empresa]"
     ]
    },
    {
     "output_type": "stream",
     "name": "stdout",
     "output_type": "stream",
     "text": [
      "Acessando empresa com Ticker: IGTI\n"
     ]
    },
    {
     "output_type": "stream",
     "name": "stderr",
     "output_type": "stream",
     "text": [
      "\rProcessando Empresas:  16%|█▋        | 15/91 [01:33<08:05,  6.38s/empresa]"
     ]
    },
    {
     "output_type": "stream",
     "name": "stdout",
     "output_type": "stream",
     "text": [
      "Acessando empresa com Ticker: PETR\n"
     ]
    },
    {
     "output_type": "stream",
     "name": "stderr",
     "output_type": "stream",
     "text": [
      "\rProcessando Empresas:  18%|█▊        | 16/91 [01:40<08:07,  6.50s/empresa]"
     ]
    },
    {
     "output_type": "stream",
     "name": "stdout",
     "output_type": "stream",
     "text": [
      "Acessando empresa com Ticker: ALPA\n"
     ]
    },
    {
     "output_type": "stream",
     "name": "stderr",
     "output_type": "stream",
     "text": [
      "\rProcessando Empresas:  19%|█▊        | 17/91 [01:47<08:17,  6.73s/empresa]"
     ]
    },
    {
     "output_type": "stream",
     "name": "stdout",
     "output_type": "stream",
     "text": [
      "Acessando empresa com Ticker: KLBN\n"
     ]
    },
    {
     "output_type": "stream",
     "name": "stderr",
     "output_type": "stream",
     "text": [
      "\rProcessando Empresas:  20%|█▉        | 18/91 [01:56<08:41,  7.15s/empresa]"
     ]
    },
    {
     "output_type": "stream",
     "name": "stdout",
     "output_type": "stream",
     "text": [
      "Acessando empresa com Ticker: SUZB\n"
     ]
    },
    {
     "output_type": "stream",
     "name": "stderr",
     "output_type": "stream",
     "text": [
      "\rProcessando Empresas:  21%|██        | 19/91 [02:01<07:56,  6.62s/empresa]"
     ]
    },
    {
     "output_type": "stream",
     "name": "stdout",
     "output_type": "stream",
     "text": [
      "Acessando empresa com Ticker: CPLE\n"
     ]
    },
    {
     "output_type": "stream",
     "name": "stderr",
     "output_type": "stream",
     "text": [
      "\rProcessando Empresas:  22%|██▏       | 20/91 [02:10<08:37,  7.29s/empresa]"
     ]
    },
    {
     "output_type": "stream",
     "name": "stdout",
     "output_type": "stream",
     "text": [
      "Acessando empresa com Ticker: USIM\n"
     ]
    },
    {
     "output_type": "stream",
     "name": "stderr",
     "output_type": "stream",
     "text": [
      "\rProcessando Empresas:  23%|██▎       | 21/91 [02:18<08:43,  7.47s/empresa]"
     ]
    },
    {
     "output_type": "stream",
     "name": "stdout",
     "output_type": "stream",
     "text": [
      "Acessando empresa com Ticker: SBSP\nErro ao acessar a API: 400\n"
     ]
    },
    {
     "output_type": "stream",
     "name": "stderr",
     "output_type": "stream",
     "text": [
      "\rProcessando Empresas:  24%|██▍       | 22/91 [02:23<07:40,  6.68s/empresa]"
     ]
    },
    {
     "output_type": "stream",
     "name": "stdout",
     "output_type": "stream",
     "text": [
      "Acessando empresa com Ticker: CYRE\n"
     ]
    },
    {
     "output_type": "stream",
     "name": "stderr",
     "output_type": "stream",
     "text": [
      "\rProcessando Empresas:  25%|██▌       | 23/91 [02:28<07:11,  6.35s/empresa]"
     ]
    },
    {
     "output_type": "stream",
     "name": "stdout",
     "output_type": "stream",
     "text": [
      "Acessando empresa com Ticker: PCAR\n"
     ]
    },
    {
     "output_type": "stream",
     "name": "stderr",
     "output_type": "stream",
     "text": [
      "\rProcessando Empresas:  26%|██▋       | 24/91 [02:33<06:44,  6.04s/empresa]"
     ]
    },
    {
     "output_type": "stream",
     "name": "stdout",
     "output_type": "stream",
     "text": [
      "Acessando empresa com Ticker: ENGI\n"
     ]
    },
    {
     "output_type": "stream",
     "name": "stderr",
     "output_type": "stream",
     "text": [
      "\rProcessando Empresas:  27%|██▋       | 25/91 [02:42<07:18,  6.65s/empresa]"
     ]
    },
    {
     "output_type": "stream",
     "name": "stdout",
     "output_type": "stream",
     "text": [
      "Acessando empresa com Ticker: BRFS\n"
     ]
    },
    {
     "output_type": "stream",
     "name": "stderr",
     "output_type": "stream",
     "text": [
      "\rProcessando Empresas:  29%|██▊       | 26/91 [02:47<06:55,  6.39s/empresa]"
     ]
    },
    {
     "output_type": "stream",
     "name": "stdout",
     "output_type": "stream",
     "text": [
      "Acessando empresa com Ticker: PSSA\n"
     ]
    },
    {
     "output_type": "stream",
     "name": "stderr",
     "output_type": "stream",
     "text": [
      "\rProcessando Empresas:  30%|██▉       | 27/91 [02:53<06:36,  6.19s/empresa]"
     ]
    },
    {
     "output_type": "stream",
     "name": "stdout",
     "output_type": "stream",
     "text": [
      "Acessando empresa com Ticker: RAIL\n"
     ]
    },
    {
     "output_type": "stream",
     "name": "stderr",
     "output_type": "stream",
     "text": [
      "\rProcessando Empresas:  31%|███       | 28/91 [02:58<06:12,  5.91s/empresa]"
     ]
    },
    {
     "output_type": "stream",
     "name": "stdout",
     "output_type": "stream",
     "text": [
      "Acessando empresa com Ticker: VIVT\n"
     ]
    },
    {
     "output_type": "stream",
     "name": "stderr",
     "output_type": "stream",
     "text": [
      "\rProcessando Empresas:  32%|███▏      | 29/91 [03:04<06:00,  5.81s/empresa]"
     ]
    },
    {
     "output_type": "stream",
     "name": "stdout",
     "output_type": "stream",
     "text": [
      "Acessando empresa com Ticker: STBP\n"
     ]
    },
    {
     "output_type": "stream",
     "name": "stderr",
     "output_type": "stream",
     "text": [
      "\rProcessando Empresas:  33%|███▎      | 30/91 [03:10<05:56,  5.85s/empresa]"
     ]
    },
    {
     "output_type": "stream",
     "name": "stdout",
     "output_type": "stream",
     "text": [
      "Acessando empresa com Ticker: COGN\n"
     ]
    },
    {
     "output_type": "stream",
     "name": "stderr",
     "output_type": "stream",
     "text": [
      "\rProcessando Empresas:  34%|███▍      | 31/91 [03:15<05:40,  5.68s/empresa]"
     ]
    },
    {
     "output_type": "stream",
     "name": "stdout",
     "output_type": "stream",
     "text": [
      "Acessando empresa com Ticker: TRPL\n"
     ]
    },
    {
     "output_type": "stream",
     "name": "stderr",
     "output_type": "stream",
     "text": [
      "\rProcessando Empresas:  35%|███▌      | 32/91 [03:22<05:49,  5.92s/empresa]"
     ]
    },
    {
     "output_type": "stream",
     "name": "stdout",
     "output_type": "stream",
     "text": [
      "Acessando empresa com Ticker: UGPA\n"
     ]
    },
    {
     "output_type": "stream",
     "name": "stderr",
     "output_type": "stream",
     "text": [
      "\rProcessando Empresas:  36%|███▋      | 33/91 [03:27<05:39,  5.86s/empresa]"
     ]
    },
    {
     "output_type": "stream",
     "name": "stdout",
     "output_type": "stream",
     "text": [
      "Acessando empresa com Ticker: CPFE\n"
     ]
    },
    {
     "output_type": "stream",
     "name": "stderr",
     "output_type": "stream",
     "text": [
      "\rProcessando Empresas:  37%|███▋      | 34/91 [03:33<05:28,  5.77s/empresa]"
     ]
    },
    {
     "output_type": "stream",
     "name": "stdout",
     "output_type": "stream",
     "text": [
      "Acessando empresa com Ticker: BRAP\n"
     ]
    },
    {
     "output_type": "stream",
     "name": "stderr",
     "output_type": "stream",
     "text": [
      "\rProcessando Empresas:  38%|███▊      | 35/91 [03:40<05:46,  6.19s/empresa]"
     ]
    },
    {
     "output_type": "stream",
     "name": "stdout",
     "output_type": "stream",
     "text": [
      "Acessando empresa com Ticker: CCRO\n"
     ]
    },
    {
     "output_type": "stream",
     "name": "stderr",
     "output_type": "stream",
     "text": [
      "\rProcessando Empresas:  40%|███▉      | 36/91 [03:46<05:31,  6.03s/empresa]"
     ]
    },
    {
     "output_type": "stream",
     "name": "stdout",
     "output_type": "stream",
     "text": [
      "Acessando empresa com Ticker: ITUB\nErro ao acessar a API: 400\n"
     ]
    },
    {
     "output_type": "stream",
     "name": "stderr",
     "output_type": "stream",
     "text": [
      "\rProcessando Empresas:  41%|████      | 37/91 [03:51<05:16,  5.86s/empresa]"
     ]
    },
    {
     "output_type": "stream",
     "name": "stdout",
     "output_type": "stream",
     "text": [
      "Acessando empresa com Ticker: CSMG\n"
     ]
    },
    {
     "output_type": "stream",
     "name": "stderr",
     "output_type": "stream",
     "text": [
      "\rProcessando Empresas:  42%|████▏     | 38/91 [03:57<05:07,  5.80s/empresa]"
     ]
    },
    {
     "output_type": "stream",
     "name": "stdout",
     "output_type": "stream",
     "text": [
      "Acessando empresa com Ticker: ECOR\n"
     ]
    },
    {
     "output_type": "stream",
     "name": "stderr",
     "output_type": "stream",
     "text": [
      "\rProcessando Empresas:  43%|████▎     | 39/91 [04:03<05:01,  5.81s/empresa]"
     ]
    },
    {
     "output_type": "stream",
     "name": "stdout",
     "output_type": "stream",
     "text": [
      "Acessando empresa com Ticker: RENT\n"
     ]
    },
    {
     "output_type": "stream",
     "name": "stderr",
     "output_type": "stream",
     "text": [
      "\rProcessando Empresas:  44%|████▍     | 40/91 [04:08<04:50,  5.69s/empresa]"
     ]
    },
    {
     "output_type": "stream",
     "name": "stdout",
     "output_type": "stream",
     "text": [
      "Acessando empresa com Ticker: CSAN\n"
     ]
    },
    {
     "output_type": "stream",
     "name": "stderr",
     "output_type": "stream",
     "text": [
      "\rProcessando Empresas:  45%|████▌     | 41/91 [04:14<04:46,  5.73s/empresa]"
     ]
    },
    {
     "output_type": "stream",
     "name": "stdout",
     "output_type": "stream",
     "text": [
      "Acessando empresa com Ticker: TOTS\n"
     ]
    },
    {
     "output_type": "stream",
     "name": "stderr",
     "output_type": "stream",
     "text": [
      "\rProcessando Empresas:  46%|████▌     | 42/91 [04:20<04:40,  5.72s/empresa]"
     ]
    },
    {
     "output_type": "stream",
     "name": "stdout",
     "output_type": "stream",
     "text": [
      "Acessando empresa com Ticker: EQTL\n"
     ]
    },
    {
     "output_type": "stream",
     "name": "stderr",
     "output_type": "stream",
     "text": [
      "\rProcessando Empresas:  47%|████▋     | 43/91 [04:25<04:35,  5.74s/empresa]"
     ]
    },
    {
     "output_type": "stream",
     "name": "stdout",
     "output_type": "stream",
     "text": [
      "Acessando empresa com Ticker: EMBR\n"
     ]
    },
    {
     "output_type": "stream",
     "name": "stderr",
     "output_type": "stream",
     "text": [
      "\rProcessando Empresas:  48%|████▊     | 44/91 [04:31<04:29,  5.73s/empresa]"
     ]
    },
    {
     "output_type": "stream",
     "name": "stdout",
     "output_type": "stream",
     "text": [
      "Acessando empresa com Ticker: TAEE\n"
     ]
    },
    {
     "output_type": "stream",
     "name": "stderr",
     "output_type": "stream",
     "text": [
      "\rProcessando Empresas:  49%|████▉     | 45/91 [04:38<04:42,  6.13s/empresa]"
     ]
    },
    {
     "output_type": "stream",
     "name": "stdout",
     "output_type": "stream",
     "text": [
      "Acessando empresa com Ticker: MDIA\n"
     ]
    },
    {
     "output_type": "stream",
     "name": "stderr",
     "output_type": "stream",
     "text": [
      "\rProcessando Empresas:  51%|█████     | 46/91 [04:44<04:29,  5.98s/empresa]"
     ]
    },
    {
     "output_type": "stream",
     "name": "stdout",
     "output_type": "stream",
     "text": [
      "Acessando empresa com Ticker: IGTI\n"
     ]
    },
    {
     "output_type": "stream",
     "name": "stderr",
     "output_type": "stream",
     "text": [
      "\rProcessando Empresas:  52%|█████▏    | 47/91 [04:50<04:24,  6.01s/empresa]"
     ]
    },
    {
     "output_type": "stream",
     "name": "stdout",
     "output_type": "stream",
     "text": [
      "Acessando empresa com Ticker: SMTO\n"
     ]
    },
    {
     "output_type": "stream",
     "name": "stderr",
     "output_type": "stream",
     "text": [
      "\rProcessando Empresas:  53%|█████▎    | 48/91 [04:55<04:10,  5.83s/empresa]"
     ]
    },
    {
     "output_type": "stream",
     "name": "stdout",
     "output_type": "stream",
     "text": [
      "Acessando empresa com Ticker: SANB\n"
     ]
    },
    {
     "output_type": "stream",
     "name": "stderr",
     "output_type": "stream",
     "text": [
      "\rProcessando Empresas:  54%|█████▍    | 49/91 [05:04<04:39,  6.64s/empresa]"
     ]
    },
    {
     "output_type": "stream",
     "name": "stdout",
     "output_type": "stream",
     "text": [
      "Acessando empresa com Ticker: JBSS\n"
     ]
    },
    {
     "output_type": "stream",
     "name": "stderr",
     "output_type": "stream",
     "text": [
      "\rProcessando Empresas:  55%|█████▍    | 50/91 [05:09<04:19,  6.32s/empresa]"
     ]
    },
    {
     "output_type": "stream",
     "name": "stdout",
     "output_type": "stream",
     "text": [
      "Acessando empresa com Ticker: EZTC\n"
     ]
    },
    {
     "output_type": "stream",
     "name": "stderr",
     "output_type": "stream",
     "text": [
      "\rProcessando Empresas:  56%|█████▌    | 51/91 [05:15<04:02,  6.05s/empresa]"
     ]
    },
    {
     "output_type": "stream",
     "name": "stdout",
     "output_type": "stream",
     "text": [
      "Acessando empresa com Ticker: MRFG\n"
     ]
    },
    {
     "output_type": "stream",
     "name": "stderr",
     "output_type": "stream",
     "text": [
      "\rProcessando Empresas:  57%|█████▋    | 52/91 [05:20<03:47,  5.84s/empresa]"
     ]
    },
    {
     "output_type": "stream",
     "name": "stdout",
     "output_type": "stream",
     "text": [
      "Acessando empresa com Ticker: MRVE\n"
     ]
    },
    {
     "output_type": "stream",
     "name": "stderr",
     "output_type": "stream",
     "text": [
      "\rProcessando Empresas:  58%|█████▊    | 53/91 [05:27<03:49,  6.05s/empresa]"
     ]
    },
    {
     "output_type": "stream",
     "name": "stdout",
     "output_type": "stream",
     "text": [
      "Acessando empresa com Ticker: BEEF\n"
     ]
    },
    {
     "output_type": "stream",
     "name": "stderr",
     "output_type": "stream",
     "text": [
      "\rProcessando Empresas:  59%|█████▉    | 54/91 [05:32<03:41,  5.98s/empresa]"
     ]
    },
    {
     "output_type": "stream",
     "name": "stdout",
     "output_type": "stream",
     "text": [
      "Acessando empresa com Ticker: MULT\n"
     ]
    },
    {
     "output_type": "stream",
     "name": "stderr",
     "output_type": "stream",
     "text": [
      "\rProcessando Empresas:  60%|██████    | 55/91 [05:38<03:29,  5.83s/empresa]"
     ]
    },
    {
     "output_type": "stream",
     "name": "stdout",
     "output_type": "stream",
     "text": [
      "Acessando empresa com Ticker: YDUQ\n"
     ]
    },
    {
     "output_type": "stream",
     "name": "stderr",
     "output_type": "stream",
     "text": [
      "\rProcessando Empresas:  62%|██████▏   | 56/91 [05:43<03:17,  5.64s/empresa]"
     ]
    },
    {
     "output_type": "stream",
     "name": "stdout",
     "output_type": "stream",
     "text": [
      "Acessando empresa com Ticker: TEND\n"
     ]
    },
    {
     "output_type": "stream",
     "name": "stderr",
     "output_type": "stream",
     "text": [
      "\rProcessando Empresas:  63%|██████▎   | 57/91 [05:48<03:07,  5.52s/empresa]"
     ]
    },
    {
     "output_type": "stream",
     "name": "stdout",
     "output_type": "stream",
     "text": [
      "Acessando empresa com Ticker: ENEV\n"
     ]
    },
    {
     "output_type": "stream",
     "name": "stderr",
     "output_type": "stream",
     "text": [
      "\rProcessando Empresas:  64%|██████▎   | 58/91 [05:54<03:00,  5.47s/empresa]"
     ]
    },
    {
     "output_type": "stream",
     "name": "stdout",
     "output_type": "stream",
     "text": [
      "Acessando empresa com Ticker: HYPE\n"
     ]
    },
    {
     "output_type": "stream",
     "name": "stderr",
     "output_type": "stream",
     "text": [
      "\rProcessando Empresas:  65%|██████▍   | 59/91 [05:59<02:55,  5.49s/empresa]"
     ]
    },
    {
     "output_type": "stream",
     "name": "stdout",
     "output_type": "stream",
     "text": [
      "Acessando empresa com Ticker: B3SA\n"
     ]
    },
    {
     "output_type": "stream",
     "name": "stderr",
     "output_type": "stream",
     "text": [
      "\rProcessando Empresas:  66%|██████▌   | 60/91 [06:04<02:46,  5.37s/empresa]"
     ]
    },
    {
     "output_type": "stream",
     "name": "stdout",
     "output_type": "stream",
     "text": [
      "Acessando empresa com Ticker: CIEL\nErro ao acessar a API: 400\n"
     ]
    },
    {
     "output_type": "stream",
     "name": "stderr",
     "output_type": "stream",
     "text": [
      "\rProcessando Empresas:  67%|██████▋   | 61/91 [06:09<02:35,  5.19s/empresa]"
     ]
    },
    {
     "output_type": "stream",
     "name": "stdout",
     "output_type": "stream",
     "text": [
      "Acessando empresa com Ticker: FLRY\n"
     ]
    },
    {
     "output_type": "stream",
     "name": "stderr",
     "output_type": "stream",
     "text": [
      "\rProcessando Empresas:  68%|██████▊   | 62/91 [06:15<02:34,  5.34s/empresa]"
     ]
    },
    {
     "output_type": "stream",
     "name": "stdout",
     "output_type": "stream",
     "text": [
      "Acessando empresa com Ticker: PRIO\n"
     ]
    },
    {
     "output_type": "stream",
     "name": "stderr",
     "output_type": "stream",
     "text": [
      "\rProcessando Empresas:  69%|██████▉   | 63/91 [06:20<02:30,  5.39s/empresa]"
     ]
    },
    {
     "output_type": "stream",
     "name": "stdout",
     "output_type": "stream",
     "text": [
      "Acessando empresa com Ticker: ARZZ\n"
     ]
    },
    {
     "output_type": "stream",
     "name": "stderr",
     "output_type": "stream",
     "text": [
      "\rProcessando Empresas:  70%|███████   | 64/91 [06:26<02:25,  5.38s/empresa]"
     ]
    },
    {
     "output_type": "stream",
     "name": "stdout",
     "output_type": "stream",
     "text": [
      "Acessando empresa com Ticker: ALOS\n"
     ]
    },
    {
     "output_type": "stream",
     "name": "stderr",
     "output_type": "stream",
     "text": [
      "\rProcessando Empresas:  71%|███████▏  | 65/91 [06:31<02:19,  5.35s/empresa]"
     ]
    },
    {
     "output_type": "stream",
     "name": "stdout",
     "output_type": "stream",
     "text": [
      "Acessando empresa com Ticker: MGLU\n"
     ]
    },
    {
     "output_type": "stream",
     "name": "stderr",
     "output_type": "stream",
     "text": [
      "\rProcessando Empresas:  73%|███████▎  | 66/91 [06:37<02:17,  5.51s/empresa]"
     ]
    },
    {
     "output_type": "stream",
     "name": "stdout",
     "output_type": "stream",
     "text": [
      "Acessando empresa com Ticker: BPAC\nErro ao acessar a API: 400\n"
     ]
    },
    {
     "output_type": "stream",
     "name": "stderr",
     "output_type": "stream",
     "text": [
      "\rProcessando Empresas:  74%|███████▎  | 67/91 [06:42<02:07,  5.30s/empresa]"
     ]
    },
    {
     "output_type": "stream",
     "name": "stdout",
     "output_type": "stream",
     "text": [
      "Acessando empresa com Ticker: BBSE\n"
     ]
    },
    {
     "output_type": "stream",
     "name": "stderr",
     "output_type": "stream",
     "text": [
      "\rProcessando Empresas:  75%|███████▍  | 68/91 [06:47<02:02,  5.32s/empresa]"
     ]
    },
    {
     "output_type": "stream",
     "name": "stdout",
     "output_type": "stream",
     "text": [
      "Acessando empresa com Ticker: ABEV\n"
     ]
    },
    {
     "output_type": "stream",
     "name": "stderr",
     "output_type": "stream",
     "text": [
      "\rProcessando Empresas:  76%|███████▌  | 69/91 [06:53<01:59,  5.41s/empresa]"
     ]
    },
    {
     "output_type": "stream",
     "name": "stdout",
     "output_type": "stream",
     "text": [
      "Acessando empresa com Ticker: CVCB\n"
     ]
    },
    {
     "output_type": "stream",
     "name": "stderr",
     "output_type": "stream",
     "text": [
      "\rProcessando Empresas:  77%|███████▋  | 70/91 [06:58<01:56,  5.52s/empresa]"
     ]
    },
    {
     "output_type": "stream",
     "name": "stdout",
     "output_type": "stream",
     "text": [
      "Acessando empresa com Ticker: MOVI\n"
     ]
    },
    {
     "output_type": "stream",
     "name": "stderr",
     "output_type": "stream",
     "text": [
      "\rProcessando Empresas:  78%|███████▊  | 71/91 [07:04<01:51,  5.55s/empresa]"
     ]
    },
    {
     "output_type": "stream",
     "name": "stdout",
     "output_type": "stream",
     "text": [
      "Acessando empresa com Ticker: AZUL\n"
     ]
    },
    {
     "output_type": "stream",
     "name": "stderr",
     "output_type": "stream",
     "text": [
      "\rProcessando Empresas:  79%|███████▉  | 72/91 [07:09<01:44,  5.48s/empresa]"
     ]
    },
    {
     "output_type": "stream",
     "name": "stdout",
     "output_type": "stream",
     "text": [
      "Acessando empresa com Ticker: CRFB\n"
     ]
    },
    {
     "output_type": "stream",
     "name": "stderr",
     "output_type": "stream",
     "text": [
      "\rProcessando Empresas:  80%|████████  | 73/91 [07:15<01:38,  5.45s/empresa]"
     ]
    },
    {
     "output_type": "stream",
     "name": "stdout",
     "output_type": "stream",
     "text": [
      "Acessando empresa com Ticker: IRBR\n"
     ]
    },
    {
     "output_type": "stream",
     "name": "stderr",
     "output_type": "stream",
     "text": [
      "\rProcessando Empresas:  81%|████████▏ | 74/91 [07:20<01:33,  5.49s/empresa]"
     ]
    },
    {
     "output_type": "stream",
     "name": "stdout",
     "output_type": "stream",
     "text": [
      "Acessando empresa com Ticker: SMFT\n"
     ]
    },
    {
     "output_type": "stream",
     "name": "stderr",
     "output_type": "stream",
     "text": [
      "\rProcessando Empresas:  82%|████████▏ | 75/91 [07:25<01:25,  5.36s/empresa]"
     ]
    },
    {
     "output_type": "stream",
     "name": "stdout",
     "output_type": "stream",
     "text": [
      "Acessando empresa com Ticker: VBBR\n"
     ]
    },
    {
     "output_type": "stream",
     "name": "stderr",
     "output_type": "stream",
     "text": [
      "\rProcessando Empresas:  84%|████████▎ | 76/91 [07:31<01:20,  5.37s/empresa]"
     ]
    },
    {
     "output_type": "stream",
     "name": "stdout",
     "output_type": "stream",
     "text": [
      "Acessando empresa com Ticker: HAPV\n"
     ]
    },
    {
     "output_type": "stream",
     "name": "stderr",
     "output_type": "stream",
     "text": [
      "\rProcessando Empresas:  85%|████████▍ | 77/91 [07:36<01:15,  5.39s/empresa]"
     ]
    },
    {
     "output_type": "stream",
     "name": "stdout",
     "output_type": "stream",
     "text": [
      "Acessando empresa com Ticker: VAMO\n"
     ]
    },
    {
     "output_type": "stream",
     "name": "stderr",
     "output_type": "stream",
     "text": [
      "\rProcessando Empresas:  86%|████████▌ | 78/91 [07:41<01:08,  5.29s/empresa]"
     ]
    },
    {
     "output_type": "stream",
     "name": "stdout",
     "output_type": "stream",
     "text": [
      "Acessando empresa com Ticker: NTCO\n"
     ]
    },
    {
     "output_type": "stream",
     "name": "stderr",
     "output_type": "stream",
     "text": [
      "\rProcessando Empresas:  87%|████████▋ | 79/91 [07:46<01:03,  5.25s/empresa]"
     ]
    },
    {
     "output_type": "stream",
     "name": "stdout",
     "output_type": "stream",
     "text": [
      "Acessando empresa com Ticker: VIVA\n"
     ]
    },
    {
     "output_type": "stream",
     "name": "stderr",
     "output_type": "stream",
     "text": [
      "\rProcessando Empresas:  88%|████████▊ | 80/91 [07:52<00:58,  5.28s/empresa]"
     ]
    },
    {
     "output_type": "stream",
     "name": "stdout",
     "output_type": "stream",
     "text": [
      "Acessando empresa com Ticker: RDOR\n"
     ]
    },
    {
     "output_type": "stream",
     "name": "stderr",
     "output_type": "stream",
     "text": [
      "\rProcessando Empresas:  89%|████████▉ | 81/91 [07:57<00:51,  5.19s/empresa]"
     ]
    },
    {
     "output_type": "stream",
     "name": "stdout",
     "output_type": "stream",
     "text": [
      "Acessando empresa com Ticker: LWSA\n"
     ]
    },
    {
     "output_type": "stream",
     "name": "stderr",
     "output_type": "stream",
     "text": [
      "\rProcessando Empresas:  90%|█████████ | 82/91 [08:02<00:46,  5.16s/empresa]"
     ]
    },
    {
     "output_type": "stream",
     "name": "stdout",
     "output_type": "stream",
     "text": [
      "Acessando empresa com Ticker: TIMS\nErro ao acessar a API: 400\n"
     ]
    },
    {
     "output_type": "stream",
     "name": "stderr",
     "output_type": "stream",
     "text": [
      "\rProcessando Empresas:  91%|█████████ | 83/91 [08:07<00:40,  5.02s/empresa]"
     ]
    },
    {
     "output_type": "stream",
     "name": "stdout",
     "output_type": "stream",
     "text": [
      "Acessando empresa com Ticker: SOMA\n"
     ]
    },
    {
     "output_type": "stream",
     "name": "stderr",
     "output_type": "stream",
     "text": [
      "\rProcessando Empresas:  92%|█████████▏| 84/91 [08:12<00:35,  5.04s/empresa]"
     ]
    },
    {
     "output_type": "stream",
     "name": "stdout",
     "output_type": "stream",
     "text": [
      "Acessando empresa com Ticker: PETZ\nErro ao acessar a API: 400\n"
     ]
    },
    {
     "output_type": "stream",
     "name": "stderr",
     "output_type": "stream",
     "text": [
      "\rProcessando Empresas:  93%|█████████▎| 85/91 [08:16<00:29,  4.95s/empresa]"
     ]
    },
    {
     "output_type": "stream",
     "name": "stdout",
     "output_type": "stream",
     "text": [
      "Acessando empresa com Ticker: GMAT\n"
     ]
    },
    {
     "output_type": "stream",
     "name": "stderr",
     "output_type": "stream",
     "text": [
      "\rProcessando Empresas:  95%|█████████▍| 86/91 [08:21<00:24,  4.99s/empresa]"
     ]
    },
    {
     "output_type": "stream",
     "name": "stdout",
     "output_type": "stream",
     "text": [
      "Acessando empresa com Ticker: RRRP\n"
     ]
    },
    {
     "output_type": "stream",
     "name": "stderr",
     "output_type": "stream",
     "text": [
      "\rProcessando Empresas:  96%|█████████▌| 87/91 [08:27<00:20,  5.05s/empresa]"
     ]
    },
    {
     "output_type": "stream",
     "name": "stdout",
     "output_type": "stream",
     "text": [
      "Acessando empresa com Ticker: ASAI\nErro ao acessar a API: 400\n"
     ]
    },
    {
     "output_type": "stream",
     "name": "stderr",
     "output_type": "stream",
     "text": [
      "\rProcessando Empresas:  97%|█████████▋| 88/91 [08:31<00:14,  4.94s/empresa]"
     ]
    },
    {
     "output_type": "stream",
     "name": "stdout",
     "output_type": "stream",
     "text": [
      "Acessando empresa com Ticker: CMIN\n"
     ]
    },
    {
     "output_type": "stream",
     "name": "stderr",
     "output_type": "stream",
     "text": [
      "\rProcessando Empresas:  98%|█████████▊| 89/91 [08:36<00:09,  4.97s/empresa]"
     ]
    },
    {
     "output_type": "stream",
     "name": "stdout",
     "output_type": "stream",
     "text": [
      "Acessando empresa com Ticker: RECV\n"
     ]
    },
    {
     "output_type": "stream",
     "name": "stderr",
     "output_type": "stream",
     "text": [
      "\rProcessando Empresas:  99%|█████████▉| 90/91 [08:41<00:04,  4.98s/empresa]"
     ]
    },
    {
     "output_type": "stream",
     "name": "stdout",
     "output_type": "stream",
     "text": [
      "Acessando empresa com Ticker: RAIZ\n"
     ]
    },
    {
     "output_type": "stream",
     "name": "stderr",
     "output_type": "stream",
     "text": [
      "\rProcessando Empresas: 100%|██████████| 91/91 [08:46<00:00,  4.97s/empresa]\rProcessando Empresas: 100%|██████████| 91/91 [08:46<00:00,  5.79s/empresa]\n"
     ]
    }
   ],
   "source": [
    "statement_type = \"con\"  # Tipo de resultado\n",
    "period_init = \"2003-01-01\"  # Data de início dos indicadores\n",
    "period_end = \"2023-12-31\"  # Data de fim dos indicadores\n",
    "\n",
    "#Lista das empresas do IBXX\n",
    "tickers = [\n",
    "    \"ABEV\", \"ALOS\", \"ALPA\", \"ARZZ\", \"ASAI\", \"AZUL\",\n",
    "    \"BBAS\", \"BBDC\", \"BBSE\", \"BEEF\", \"B3SA\", \"BPAC\",\n",
    "    \"BRAP\", \"BRFS\", \"BRKM\", \"CCRO\", \"CIEL\", \"CMIG\",\n",
    "    \"CMIN\", \"COGN\", \"CPFE\", \"CPLE\", \"CRFB\", \"CSAN\",\n",
    "    \"CSMG\", \"CSNA\", \"CVCB\", \"CYRE\", \"ELET\", \"EMBR\",\n",
    "    \"ECOR\", \"ENEV\", \"ENGI\", \"EQTL\", \"EZTC\", \"FLRY\",\n",
    "    \"GMAT\", \"GOAU\", \"GGBR\", \"HAPV\", \"HYPE\", \"IGTI\",\n",
    "    \"IRBR\", \"ITSA\", \"ITUB\", \"JBSS\", \"KLBN\", \"LREN\",\n",
    "    \"LWSA\", \"MDIA\", \"MGLU\", \"MOVI\", \"MRFG\", \"MRVE\",\n",
    "    \"MULT\", \"NTCO\", \"POMO\", \"PCAR\", \"PETR\", \"PETZ\",\n",
    "    \"PSSA\", \"PRIO\", \"RADL\", \"RAIZ\", \"RAIL\", \"RDOR\",\n",
    "    \"RECV\", \"RENT\", \"RRRP\", \"SANB\", \"SBSP\", \"SMFT\",\n",
    "    \"SMTO\", \"SOMA\", \"STBP\", \"SUZB\", \"TAEE\", \"TEND\",\n",
    "    \"TIMS\", \"TOTS\", \"TRPL\", \"UGPA\", \"USIM\", \"VALE\",\n",
    "    \"VAMO\", \"VBBR\", \"VIVA\", \"VIVT\", \"WEGE\", \"YDUQ\",\n",
    "]\n",
    "\n",
    "companies = get_companies(tickers)\n",
    "time.sleep(2)\n",
    "\n",
    "all_market_ratios = []\n",
    "all_financial_ratios = []\n",
    "\n",
    "#Percorre a lista das emrpresas, baixa os indicadores e grava em uma tabela\n",
    "if companies:\n",
    "    for company in tqdm(companies, desc=\"Processando Empresas\", unit=\"empresa\"):\n",
    "        cvm_code = company['cvm_code']\n",
    "        ticker = company['b3_issuer_code']\n",
    "\n",
    "        print(f\"Acessando empresa com Ticker: {ticker}\")\n",
    "\n",
    "        market_ratios = get_market_ratios(cvm_code, statement_type, period_init, period_end)\n",
    "        time.sleep(2)\n",
    "        financial_ratios = get_ratios(cvm_code, statement_type, \"ttm\", period_init, period_end)\n",
    "        time.sleep(2)\n",
    "        \n",
    "        if market_ratios:\n",
    "            for ratio in market_ratios:\n",
    "                all_market_ratios.append(Row(company=company['b3_issuer_code'], **ratio))\n",
    "        \n",
    "        if financial_ratios:\n",
    "            for ratio in financial_ratios:\n",
    "                all_financial_ratios.append(Row(company=company['b3_issuer_code'], **ratio))\n",
    "        \n",
    "    \n"
   ]
  },
  {
   "cell_type": "code",
   "execution_count": 0,
   "metadata": {
    "application/vnd.databricks.v1+cell": {
     "cellMetadata": {
      "byteLimit": 2048000,
      "rowLimit": 10000
     },
     "inputWidgets": {},
     "nuid": "ec120611-340c-4556-9500-8dd689ae974d",
     "showTitle": false,
     "title": ""
    }
   },
   "outputs": [],
   "source": [
    "# Criar DataFrames do Spark\n",
    "df_market_ratios = spark.createDataFrame(all_market_ratios)\n",
    "df_financial_ratios = spark.createDataFrame(all_financial_ratios)\n"
   ]
  },
  {
   "cell_type": "code",
   "execution_count": 0,
   "metadata": {
    "application/vnd.databricks.v1+cell": {
     "cellMetadata": {
      "byteLimit": 2048000,
      "rowLimit": 10000
     },
     "inputWidgets": {},
     "nuid": "07f3cfca-ccec-4764-8e2a-9116e4aa0a59",
     "showTitle": false,
     "title": ""
    }
   },
   "outputs": [
    {
     "output_type": "stream",
     "name": "stdout",
     "output_type": "stream",
     "text": [
      "+-------+----------------+--------+------------------+--------------+----------------+-------------------+-----+--------------+-------------+------------------+--------------+--------------+----------+------+\n|company|assets_per_share|cvm_code|earnings_per_share|ebit_per_share|equity_per_share|net_sales_per_share|price|price_earnings|price_to_book|price_to_cash_flow|price_to_sales|reference_date|    shares|ticker|\n+-------+----------------+--------+------------------+--------------+----------------+-------------------+-----+--------------+-------------+------------------+--------------+--------------+----------+------+\n|   ELET|          59.689|    2437|            0.3951|         1.756|         30.0145|            11.1964|17.95|       45.4349|        0.598|            4.7011|        1.6032|    2010-01-04|2307099812| ELET3|\n|   ELET|          59.689|    2437|            0.3951|         1.756|         30.0145|            11.1964|17.95|       45.4349|        0.598|            4.7011|        1.6032|    2010-01-04|2307099812| ELET3|\n|   ELET|          59.689|    2437|            0.3951|         1.756|         30.0145|            11.1964|15.35|       38.8538|       0.5114|            4.0202|         1.371|    2010-01-04|2307099812| ELET6|\n|   ELET|          59.689|    2437|            0.3951|         1.756|         30.0145|            11.1964|15.35|       38.8538|       0.5114|            4.0202|         1.371|    2010-01-04|2307099812| ELET6|\n|   ELET|          59.689|    2437|            0.3951|         1.756|         30.0145|            11.1964|15.11|       38.2463|       0.5034|            3.9573|        1.3495|    2010-01-05|2307099812| ELET6|\n|   ELET|          59.689|    2437|            0.3951|         1.756|         30.0145|            11.1964|15.11|       38.2463|       0.5034|            3.9573|        1.3495|    2010-01-05|2307099812| ELET6|\n|   ELET|          59.689|    2437|            0.3951|         1.756|         30.0145|            11.1964| 17.8|       45.0553|        0.593|            4.6619|        1.5898|    2010-01-05|2307099812| ELET3|\n|   ELET|          59.689|    2437|            0.3951|         1.756|         30.0145|            11.1964| 17.8|       45.0553|        0.593|            4.6619|        1.5898|    2010-01-05|2307099812| ELET3|\n|   ELET|          59.689|    2437|            0.3951|         1.756|         30.0145|            11.1964|17.57|       44.4731|       0.5854|            4.6016|        1.5693|    2010-01-06|2307099812| ELET3|\n|   ELET|          59.689|    2437|            0.3951|         1.756|         30.0145|            11.1964|17.57|       44.4731|       0.5854|            4.6016|        1.5693|    2010-01-06|2307099812| ELET3|\n|   ELET|          59.689|    2437|            0.3951|         1.756|         30.0145|            11.1964|14.92|       37.7654|       0.4971|            3.9076|        1.3326|    2010-01-06|2307099812| ELET6|\n|   ELET|          59.689|    2437|            0.3951|         1.756|         30.0145|            11.1964|14.92|       37.7654|       0.4971|            3.9076|        1.3326|    2010-01-06|2307099812| ELET6|\n|   ELET|          59.689|    2437|            0.3951|         1.756|         30.0145|            11.1964|17.98|       45.5109|        0.599|             4.709|        1.6059|    2010-01-07|2307099812| ELET3|\n|   ELET|          59.689|    2437|            0.3951|         1.756|         30.0145|            11.1964|17.98|       45.5109|        0.599|             4.709|        1.6059|    2010-01-07|2307099812| ELET3|\n|   ELET|          59.689|    2437|            0.3951|         1.756|         30.0145|            11.1964|15.25|       38.6007|       0.5081|             3.994|         1.362|    2010-01-07|2307099812| ELET6|\n|   ELET|          59.689|    2437|            0.3951|         1.756|         30.0145|            11.1964|15.25|       38.6007|       0.5081|             3.994|         1.362|    2010-01-07|2307099812| ELET6|\n|   ELET|          59.689|    2437|            0.3951|         1.756|         30.0145|            11.1964|15.43|       39.0563|       0.5141|            4.0411|        1.3781|    2010-01-08|2307099812| ELET6|\n|   ELET|          59.689|    2437|            0.3951|         1.756|         30.0145|            11.1964|15.43|       39.0563|       0.5141|            4.0411|        1.3781|    2010-01-08|2307099812| ELET6|\n|   ELET|          59.689|    2437|            0.3951|         1.756|         30.0145|            11.1964|18.28|       46.2702|        0.609|            4.7876|        1.6327|    2010-01-08|2307099812| ELET3|\n|   ELET|          59.689|    2437|            0.3951|         1.756|         30.0145|            11.1964|18.28|       46.2702|        0.609|            4.7876|        1.6327|    2010-01-08|2307099812| ELET3|\n+-------+----------------+--------+------------------+--------------+----------------+-------------------+-----+--------------+-------------+------------------+--------------+--------------+----------+------+\nonly showing top 20 rows\n\n"
     ]
    }
   ],
   "source": [
    "df_market_ratios.show()"
   ]
  },
  {
   "cell_type": "code",
   "execution_count": 0,
   "metadata": {
    "application/vnd.databricks.v1+cell": {
     "cellMetadata": {
      "byteLimit": 2048000,
      "rowLimit": 10000
     },
     "inputWidgets": {},
     "nuid": "0a6bfd77-0176-40b0-8d83-95312dc4e9ee",
     "showTitle": false,
     "title": ""
    }
   },
   "outputs": [
    {
     "output_type": "stream",
     "name": "stdout",
     "output_type": "stream",
     "text": [
      "+-------+--------------+--------------+-----------------+--------+-----------+------+-------------+----------+------------+--------+----------+----------------+----------+-----------+-----------+---------------+----------------+----------------+--------------+----------+---------------+\n|company|asset_turnover|cash_liquidity|current_liquidity|cvm_code|ebit_margin|ebitda|ebitda_margin|gross_debt|gross_margin|net_debt|net_margin|operating_margin|period_end|period_init|period_type|quick_liquidity|return_on_assets|return_on_equity|statement_type|total_debt|working_capital|\n+-------+--------------+--------------+-----------------+--------+-----------+------+-------------+----------+------------+--------+----------+----------------+----------+-----------+-----------+---------------+----------------+----------------+--------------+----------+---------------+\n|   BBDC|        0.1264|          null|             null|     906|       null|  null|         null|      null|     53.3612|    null|   13.4087|         20.2971|2009-12-31| 2009-01-01|        ttm|           null|           0.017|         18.5923|           con|      null|           null|\n|   BBDC|        0.1107|          null|             null|     906|       null|  null|         null|      null|      52.526|    null|   15.0619|         22.9611|2010-12-31| 2010-01-01|        ttm|           null|          0.0167|         19.6491|           con|      null|           null|\n|   BBDC|          null|          null|             null|     906|       null|  null|         null|      null|        null|    null|      null|            null|2011-03-31| 2010-04-01|        ttm|           null|            null|            null|           con|      null|           null|\n|   BBDC|          null|          null|             null|     906|       null|  null|         null|      null|        null|    null|      null|            null|2011-06-30| 2010-07-01|        ttm|           null|            null|            null|           con|      null|           null|\n|   BBDC|          null|          null|             null|     906|       null|  null|         null|      null|        null|    null|      null|            null|2011-09-30| 2010-10-01|        ttm|           null|            null|            null|           con|      null|           null|\n|   BBDC|        0.1137|          null|             null|     906|       null|  null|         null|      null|     46.2642|    null|   13.5032|         17.8796|2011-12-31| 2011-01-01|        ttm|           null|          0.0154|         18.6747|           con|      null|           null|\n|   BBDC|          null|          null|             null|     906|       null|  null|         null|      null|        null|    null|      null|            null|2012-03-31| 2011-04-01|        ttm|           null|            null|            null|           con|      null|           null|\n|   BBDC|          null|          null|             null|     906|       null|  null|         null|      null|        null|    null|      null|            null|2012-06-30| 2011-07-01|        ttm|           null|            null|            null|           con|      null|           null|\n|   BBDC|          null|          null|             null|     906|       null|  null|         null|      null|        null|    null|      null|            null|2012-09-30| 2011-10-01|        ttm|           null|            null|            null|           con|      null|           null|\n|   BBDC|        0.1075|          null|             null|     906|       null|  null|         null|      null|     53.8732|    null|   13.2073|         17.9655|2012-12-31| 2012-01-01|        ttm|           null|          0.0142|         15.9107|           con|      null|           null|\n|   BBDC|          null|          null|             null|     906|       null|  null|         null|      null|        null|    null|      null|            null|2013-03-31| 2012-04-01|        ttm|           null|            null|            null|           con|      null|           null|\n|   BBDC|          null|          null|             null|     906|       null|  null|         null|      null|        null|    null|      null|            null|2013-06-30| 2012-07-01|        ttm|           null|            null|            null|           con|      null|           null|\n|   BBDC|          null|          null|             null|     906|       null|  null|         null|      null|        null|    null|      null|            null|2013-09-30| 2012-10-01|        ttm|           null|            null|            null|           con|      null|           null|\n|   BBDC|        0.0927|          null|             null|     906|       null|  null|         null|      null|     46.7399|    null|   16.0701|         18.4292|2013-12-31| 2013-01-01|        ttm|           null|          0.0149|         17.3171|           con|      null|           null|\n|   BBDC|          null|          null|             null|     906|       null|  null|         null|      null|        null|    null|      null|            null|2014-03-31| 2013-04-01|        ttm|           null|            null|            null|           con|      null|           null|\n|   BBDC|          null|          null|             null|     906|       null|  null|         null|      null|        null|    null|      null|            null|2014-06-30| 2013-07-01|        ttm|           null|            null|            null|           con|      null|           null|\n|   BBDC|          null|          null|             null|     906|       null|  null|         null|      null|        null|    null|      null|            null|2014-09-30| 2013-10-01|        ttm|           null|            null|            null|           con|      null|           null|\n|   BBDC|        0.1072|          null|             null|     906|       null|  null|         null|      null|     46.0034|    null|   15.4592|         19.3844|2014-12-31| 2014-01-01|        ttm|           null|          0.0166|         18.7339|           con|      null|           null|\n|   BBDC|          null|          null|             null|     906|       null|  null|         null|      null|        null|    null|      null|            null|2015-03-31| 2014-04-01|        ttm|           null|            null|            null|           con|      null|           null|\n|   BBDC|          null|          null|             null|     906|       null|  null|         null|      null|        null|    null|      null|            null|2015-06-30| 2014-07-01|        ttm|           null|            null|            null|           con|      null|           null|\n+-------+--------------+--------------+-----------------+--------+-----------+------+-------------+----------+------------+--------+----------+----------------+----------+-----------+-----------+---------------+----------------+----------------+--------------+----------+---------------+\nonly showing top 20 rows\n\n"
     ]
    }
   ],
   "source": [
    "df_financial_ratios.show()"
   ]
  },
  {
   "cell_type": "code",
   "execution_count": 0,
   "metadata": {
    "application/vnd.databricks.v1+cell": {
     "cellMetadata": {
      "byteLimit": 2048000,
      "rowLimit": 10000
     },
     "inputWidgets": {},
     "nuid": "f8f63ed1-e19f-43f5-957e-54bc57d80973",
     "showTitle": false,
     "title": ""
    }
   },
   "outputs": [
    {
     "output_type": "stream",
     "name": "stdout",
     "output_type": "stream",
     "text": [
      "Dados salvos com sucesso no Databricks!\n"
     ]
    }
   ],
   "source": [
    "# Salvar os dados em tabelas Delta no Databricks\n",
    "df_market_ratios.write.format(\"delta\").mode(\"overwrite\").saveAsTable(\"market_ratios\")\n",
    "df_financial_ratios.write.format(\"delta\").mode(\"overwrite\").saveAsTable(\"financial_ratios\")\n",
    "\n",
    "print(\"Dados salvos com sucesso no Databricks!\")"
   ]
  },
  {
   "cell_type": "code",
   "execution_count": 0,
   "metadata": {
    "application/vnd.databricks.v1+cell": {
     "cellMetadata": {
      "byteLimit": 2048000,
      "rowLimit": 10000
     },
     "inputWidgets": {},
     "nuid": "b5821c4b-39bf-4035-a324-2c2ccea06d58",
     "showTitle": false,
     "title": ""
    }
   },
   "outputs": [
    {
     "output_type": "stream",
     "name": "stdout",
     "output_type": "stream",
     "text": [
      "A tabela market_ratios tem 418057 linhas.\nA tabela financial_ratios tem 4297 linhas.\n"
     ]
    }
   ],
   "source": [
    "print(f\"A tabela market_ratios tem {df_market_ratios.count()} linhas.\")\n",
    "print(f\"A tabela financial_ratios tem {df_financial_ratios.count()} linhas.\")"
   ]
  },
  {
   "cell_type": "markdown",
   "metadata": {
    "application/vnd.databricks.v1+cell": {
     "cellMetadata": {
      "byteLimit": 2048000,
      "rowLimit": 10000
     },
     "inputWidgets": {},
     "nuid": "19816ea6-c4d4-4f9a-bac4-f1e970b3a034",
     "showTitle": false,
     "title": ""
    }
   },
   "source": [
    "## Modelagem dos dados\n",
    "\n",
    "Como a tabela market_ratios, que contém dados históricos diários, possui uma quantidade substancial de dados. Em contraste, a tabela financial_ratios contém dados trimestrais e, consequentemente, tem menos registros disponíveis. Para trabalhar com uma visão completa dos dados disponíveis, precisamos combinar essas tabelas."
   ]
  },
  {
   "cell_type": "code",
   "execution_count": 0,
   "metadata": {
    "application/vnd.databricks.v1+cell": {
     "cellMetadata": {
      "byteLimit": 2048000,
      "rowLimit": 10000
     },
     "inputWidgets": {},
     "nuid": "ded6770c-dd51-4773-9608-b3f1261c2fde",
     "showTitle": false,
     "title": ""
    }
   },
   "outputs": [
    {
     "output_type": "stream",
     "name": "stdout",
     "output_type": "stream",
     "text": [
      "+-------+--------------+--------------+--------------+-----------------+--------+-----------+------+-------------+----------+------------+--------+----------+----------------+-----------+-----------+---------------+----------------+----------------+--------------+----------+---------------+----------------+--------+------------------+--------------+----------------+-------------------+-----+--------------+-------------+------------------+--------------+------+------+\n|company|reference_date|asset_turnover|cash_liquidity|current_liquidity|cvm_code|ebit_margin|ebitda|ebitda_margin|gross_debt|gross_margin|net_debt|net_margin|operating_margin|period_init|period_type|quick_liquidity|return_on_assets|return_on_equity|statement_type|total_debt|working_capital|assets_per_share|cvm_code|earnings_per_share|ebit_per_share|equity_per_share|net_sales_per_share|price|price_earnings|price_to_book|price_to_cash_flow|price_to_sales|shares|ticker|\n+-------+--------------+--------------+--------------+-----------------+--------+-----------+------+-------------+----------+------------+--------+----------+----------------+-----------+-----------+---------------+----------------+----------------+--------------+----------+---------------+----------------+--------+------------------+--------------+----------------+-------------------+-----+--------------+-------------+------------------+--------------+------+------+\n|   BBDC|    2011-12-31|        0.1137|          null|             null|     906|       null|  null|         null|      null|     46.2642|    null|   13.5032|         17.8796| 2011-01-01|        ttm|           null|          0.0154|         18.6747|           con|      null|           null|            null|    null|              null|          null|            null|               null| null|          null|         null|              null|          null|  null|  null|\n|   BBDC|    2013-06-30|          null|          null|             null|     906|       null|  null|         null|      null|        null|    null|      null|            null| 2012-07-01|        ttm|           null|            null|            null|           con|      null|           null|            null|    null|              null|          null|            null|               null| null|          null|         null|              null|          null|  null|  null|\n|   BBDC|    2014-03-31|          null|          null|             null|     906|       null|  null|         null|      null|        null|    null|      null|            null| 2013-04-01|        ttm|           null|            null|            null|           con|      null|           null|            null|    null|              null|          null|            null|               null| null|          null|         null|              null|          null|  null|  null|\n|   BBDC|    2014-12-31|        0.1072|          null|             null|     906|       null|  null|         null|      null|     46.0034|    null|   15.4592|         19.3844| 2014-01-01|        ttm|           null|          0.0166|         18.7339|           con|      null|           null|            null|    null|              null|          null|            null|               null| null|          null|         null|              null|          null|  null|  null|\n|   BBDC|    2012-06-30|          null|          null|             null|     906|       null|  null|         null|      null|        null|    null|      null|            null| 2011-07-01|        ttm|           null|            null|            null|           con|      null|           null|            null|    null|              null|          null|            null|               null| null|          null|         null|              null|          null|  null|  null|\n|   BBDC|    2014-09-30|          null|          null|             null|     906|       null|  null|         null|      null|        null|    null|      null|            null| 2013-10-01|        ttm|           null|            null|            null|           con|      null|           null|            null|    null|              null|          null|            null|               null| null|          null|         null|              null|          null|  null|  null|\n|   BBDC|    2015-09-30|          null|          null|             null|     906|       null|  null|         null|      null|        null|    null|      null|            null| 2014-10-01|        ttm|           null|            null|            null|           con|      null|           null|            null|    null|              null|          null|            null|               null| null|          null|         null|              null|          null|  null|  null|\n|   BBDC|    2012-09-30|          null|          null|             null|     906|       null|  null|         null|      null|        null|    null|      null|            null| 2011-10-01|        ttm|           null|            null|            null|           con|      null|           null|            null|    null|              null|          null|            null|               null| null|          null|         null|              null|          null|  null|  null|\n|   BBDC|    2013-03-31|          null|          null|             null|     906|       null|  null|         null|      null|        null|    null|      null|            null| 2012-04-01|        ttm|           null|            null|            null|           con|      null|           null|            null|    null|              null|          null|            null|               null| null|          null|         null|              null|          null|  null|  null|\n|   BBDC|    2012-03-31|          null|          null|             null|     906|       null|  null|         null|      null|        null|    null|      null|            null| 2011-04-01|        ttm|           null|            null|            null|           con|      null|           null|            null|    null|              null|          null|            null|               null| null|          null|         null|              null|          null|  null|  null|\n|   BBDC|    2010-12-31|        0.1107|          null|             null|     906|       null|  null|         null|      null|      52.526|    null|   15.0619|         22.9611| 2010-01-01|        ttm|           null|          0.0167|         19.6491|           con|      null|           null|            null|    null|              null|          null|            null|               null| null|          null|         null|              null|          null|  null|  null|\n|   BBDC|    2011-06-30|          null|          null|             null|     906|       null|  null|         null|      null|        null|    null|      null|            null| 2010-07-01|        ttm|           null|            null|            null|           con|      null|           null|            null|    null|              null|          null|            null|               null| null|          null|         null|              null|          null|  null|  null|\n|   BBDC|    2011-09-30|          null|          null|             null|     906|       null|  null|         null|      null|        null|    null|      null|            null| 2010-10-01|        ttm|           null|            null|            null|           con|      null|           null|            null|    null|              null|          null|            null|               null| null|          null|         null|              null|          null|  null|  null|\n|   BBDC|    2012-12-31|        0.1075|          null|             null|     906|       null|  null|         null|      null|     53.8732|    null|   13.2073|         17.9655| 2012-01-01|        ttm|           null|          0.0142|         15.9107|           con|      null|           null|            null|    null|              null|          null|            null|               null| null|          null|         null|              null|          null|  null|  null|\n|   BBDC|    2013-12-31|        0.0927|          null|             null|     906|       null|  null|         null|      null|     46.7399|    null|   16.0701|         18.4292| 2013-01-01|        ttm|           null|          0.0149|         17.3171|           con|      null|           null|            null|    null|              null|          null|            null|               null| null|          null|         null|              null|          null|  null|  null|\n|   BBDC|    2015-03-31|          null|          null|             null|     906|       null|  null|         null|      null|        null|    null|      null|            null| 2014-04-01|        ttm|           null|            null|            null|           con|      null|           null|            null|    null|              null|          null|            null|               null| null|          null|         null|              null|          null|  null|  null|\n|   BBDC|    2015-06-30|          null|          null|             null|     906|       null|  null|         null|      null|        null|    null|      null|            null| 2014-07-01|        ttm|           null|            null|            null|           con|      null|           null|            null|    null|              null|          null|            null|               null| null|          null|         null|              null|          null|  null|  null|\n|   BBDC|    2011-03-31|          null|          null|             null|     906|       null|  null|         null|      null|        null|    null|      null|            null| 2010-04-01|        ttm|           null|            null|            null|           con|      null|           null|            null|    null|              null|          null|            null|               null| null|          null|         null|              null|          null|  null|  null|\n|   BBDC|    2013-09-30|          null|          null|             null|     906|       null|  null|         null|      null|        null|    null|      null|            null| 2012-10-01|        ttm|           null|            null|            null|           con|      null|           null|            null|    null|              null|          null|            null|               null| null|          null|         null|              null|          null|  null|  null|\n|   BBDC|    2009-12-31|        0.1264|          null|             null|     906|       null|  null|         null|      null|     53.3612|    null|   13.4087|         20.2971| 2009-01-01|        ttm|           null|           0.017|         18.5923|           con|      null|           null|            null|    null|              null|          null|            null|               null| null|          null|         null|              null|          null|  null|  null|\n+-------+--------------+--------------+--------------+-----------------+--------+-----------+------+-------------+----------+------------+--------+----------+----------------+-----------+-----------+---------------+----------------+----------------+--------------+----------+---------------+----------------+--------+------------------+--------------+----------------+-------------------+-----+--------------+-------------+------------------+--------------+------+------+\nonly showing top 20 rows\n\n"
     ]
    }
   ],
   "source": [
    "# Ler as tabelas Delta\n",
    "df_market_ratios = spark.read.format(\"delta\").table(\"market_ratios\")\n",
    "df_financial_ratios = spark.read.format(\"delta\").table(\"financial_ratios\")\n",
    "\n",
    "# Alterando o nome para fazer o merge\n",
    "df_financial_ratios = df_financial_ratios.withColumnRenamed('period_end', 'reference_date')\n",
    "\n",
    "# Realizar o join baseado na coluna 'company' e 'reference_date'\n",
    "df_merged = df_financial_ratios.join(df_market_ratios, on=['company', 'reference_date'], how='left')\n",
    "\n",
    "# Exibir o DataFrame resultante\n",
    "df_merged.show()"
   ]
  },
  {
   "cell_type": "code",
   "execution_count": 0,
   "metadata": {
    "application/vnd.databricks.v1+cell": {
     "cellMetadata": {
      "byteLimit": 2048000,
      "rowLimit": 10000
     },
     "inputWidgets": {},
     "nuid": "e4b65c88-7a2c-4b49-b600-e380f3dce842",
     "showTitle": false,
     "title": ""
    }
   },
   "outputs": [],
   "source": [
    "# Selecionando apenas as colunas desejadas para evitar duplicidade e retirando colunas que nao serão utilizadas\n",
    "columns_to_keep = [\n",
    "    'company', 'reference_date', 'assets_per_share', 'earnings_per_share',\n",
    "    'ebit_per_share', 'equity_per_share', 'net_sales_per_share',\n",
    "    'price', 'price_earnings', 'price_to_book', 'price_to_cash_flow',\n",
    "    'price_to_sales', 'shares', 'ticker', 'asset_turnover', 'cash_liquidity',\n",
    "    'current_liquidity', 'ebit_margin', 'ebitda', 'ebitda_margin',\n",
    "    'gross_debt', 'gross_margin', 'net_debt', 'net_margin', 'operating_margin',\n",
    "    'quick_liquidity', 'return_on_assets', 'return_on_equity', 'total_debt', 'working_capital'\n",
    "]\n",
    "\n",
    "df_merged_selected = df_merged.select(columns_to_keep)"
   ]
  },
  {
   "cell_type": "code",
   "execution_count": 0,
   "metadata": {
    "application/vnd.databricks.v1+cell": {
     "cellMetadata": {
      "byteLimit": 2048000,
      "rowLimit": 10000
     },
     "inputWidgets": {},
     "nuid": "59690de9-0caf-4525-ba80-b1a3f3bb2e80",
     "showTitle": false,
     "title": ""
    }
   },
   "outputs": [
    {
     "output_type": "stream",
     "name": "stdout",
     "output_type": "stream",
     "text": [
      "Out[13]: 6197"
     ]
    }
   ],
   "source": [
    "df_merged_selected.count()"
   ]
  },
  {
   "cell_type": "markdown",
   "metadata": {
    "application/vnd.databricks.v1+cell": {
     "cellMetadata": {
      "byteLimit": 2048000,
      "rowLimit": 10000
     },
     "inputWidgets": {},
     "nuid": "090e0c82-0e46-4a62-bce1-688d5bb0ced0",
     "showTitle": false,
     "title": ""
    }
   },
   "source": [
    "## Tratamento dos dados\n",
    "Agora vamos tratar esses dados, vamos tirar as linhas com mais de 60% dos valores nullos"
   ]
  },
  {
   "cell_type": "code",
   "execution_count": 0,
   "metadata": {
    "application/vnd.databricks.v1+cell": {
     "cellMetadata": {
      "byteLimit": 2048000,
      "rowLimit": 10000
     },
     "inputWidgets": {},
     "nuid": "680f4189-b305-422e-bfde-442d647faa59",
     "showTitle": false,
     "title": ""
    }
   },
   "outputs": [],
   "source": [
    "null_threshold = 5\n",
    "\n",
    "# Filtrar as linhas com mais de 6 valores nulos\n",
    "filtered_df = df_merged_selected.filter(\n",
    "    sum(col(c).isNull().cast(\"integer\") for c in df_merged_selected.columns) <= null_threshold\n",
    ")"
   ]
  },
  {
   "cell_type": "markdown",
   "metadata": {
    "application/vnd.databricks.v1+cell": {
     "cellMetadata": {
      "byteLimit": 2048000,
      "rowLimit": 10000
     },
     "inputWidgets": {},
     "nuid": "b67c1295-4322-496b-84bb-4d95406804ab",
     "showTitle": false,
     "title": ""
    }
   },
   "source": [
    "Tiramos as linhas com valores nulos do DataFrame. Como não possuímos variáveis categóricas e os tipos de dados estão corretos, vamos proceder verificando a presença de outliers nos dados."
   ]
  },
  {
   "cell_type": "code",
   "execution_count": 0,
   "metadata": {
    "application/vnd.databricks.v1+cell": {
     "cellMetadata": {
      "byteLimit": 2048000,
      "rowLimit": 10000
     },
     "inputWidgets": {},
     "nuid": "51b42186-cd37-4dda-b508-94a4df6e7657",
     "showTitle": false,
     "title": ""
    }
   },
   "outputs": [
    {
     "output_type": "display_data",
     "data": {
      "text/html": [
       "<div>\n",
       "<style scoped>\n",
       "    .dataframe tbody tr th:only-of-type {\n",
       "        vertical-align: middle;\n",
       "    }\n",
       "\n",
       "    .dataframe tbody tr th {\n",
       "        vertical-align: top;\n",
       "    }\n",
       "\n",
       "    .dataframe thead th {\n",
       "        text-align: right;\n",
       "    }\n",
       "</style>\n",
       "<table border=\"1\" class=\"dataframe\">\n",
       "  <thead>\n",
       "    <tr style=\"text-align: right;\">\n",
       "      <th></th>\n",
       "      <th>summary</th>\n",
       "      <th>company</th>\n",
       "      <th>reference_date</th>\n",
       "      <th>assets_per_share</th>\n",
       "      <th>earnings_per_share</th>\n",
       "      <th>ebit_per_share</th>\n",
       "      <th>equity_per_share</th>\n",
       "      <th>net_sales_per_share</th>\n",
       "      <th>price</th>\n",
       "      <th>price_earnings</th>\n",
       "      <th>...</th>\n",
       "      <th>gross_debt</th>\n",
       "      <th>gross_margin</th>\n",
       "      <th>net_debt</th>\n",
       "      <th>net_margin</th>\n",
       "      <th>operating_margin</th>\n",
       "      <th>quick_liquidity</th>\n",
       "      <th>return_on_assets</th>\n",
       "      <th>return_on_equity</th>\n",
       "      <th>total_debt</th>\n",
       "      <th>working_capital</th>\n",
       "    </tr>\n",
       "  </thead>\n",
       "  <tbody>\n",
       "    <tr>\n",
       "      <th>0</th>\n",
       "      <td>count</td>\n",
       "      <td>3231</td>\n",
       "      <td>3231</td>\n",
       "      <td>3231</td>\n",
       "      <td>3231</td>\n",
       "      <td>3231</td>\n",
       "      <td>3231</td>\n",
       "      <td>3231</td>\n",
       "      <td>3231</td>\n",
       "      <td>3231</td>\n",
       "      <td>...</td>\n",
       "      <td>3169</td>\n",
       "      <td>3231</td>\n",
       "      <td>3169</td>\n",
       "      <td>3231</td>\n",
       "      <td>3231</td>\n",
       "      <td>3219</td>\n",
       "      <td>3231</td>\n",
       "      <td>3231</td>\n",
       "      <td>3231</td>\n",
       "      <td>3231</td>\n",
       "    </tr>\n",
       "    <tr>\n",
       "      <th>1</th>\n",
       "      <td>mean</td>\n",
       "      <td>None</td>\n",
       "      <td>None</td>\n",
       "      <td>29.51041287527082</td>\n",
       "      <td>1.0009197462086037</td>\n",
       "      <td>2.223296812132468</td>\n",
       "      <td>9.75656979263386</td>\n",
       "      <td>15.92680157845868</td>\n",
       "      <td>14.955023212627667</td>\n",
       "      <td>30.451856669761668</td>\n",
       "      <td>...</td>\n",
       "      <td>2.4153967246998108E10</td>\n",
       "      <td>36.90970154750852</td>\n",
       "      <td>1.7377126055075733E10</td>\n",
       "      <td>18.30191324667285</td>\n",
       "      <td>17.569853946146715</td>\n",
       "      <td>1.6804571295433355</td>\n",
       "      <td>0.04791640359021976</td>\n",
       "      <td>14.018542958836276</td>\n",
       "      <td>191.82402432683375</td>\n",
       "      <td>5.958619866685546E9</td>\n",
       "    </tr>\n",
       "    <tr>\n",
       "      <th>2</th>\n",
       "      <td>stddev</td>\n",
       "      <td>None</td>\n",
       "      <td>None</td>\n",
       "      <td>31.23118722520641</td>\n",
       "      <td>2.778336645123253</td>\n",
       "      <td>4.0667003253456375</td>\n",
       "      <td>9.559227579226919</td>\n",
       "      <td>23.07786285181474</td>\n",
       "      <td>26.095724019998833</td>\n",
       "      <td>600.9917003124518</td>\n",
       "      <td>...</td>\n",
       "      <td>6.363996287675412E10</td>\n",
       "      <td>22.629875243209167</td>\n",
       "      <td>5.103213045038494E10</td>\n",
       "      <td>120.26018775184383</td>\n",
       "      <td>98.30843448595348</td>\n",
       "      <td>0.9442293782541382</td>\n",
       "      <td>0.0749473654948325</td>\n",
       "      <td>77.70861034637232</td>\n",
       "      <td>744.520238445092</td>\n",
       "      <td>1.0337382042826942E10</td>\n",
       "    </tr>\n",
       "    <tr>\n",
       "      <th>3</th>\n",
       "      <td>min</td>\n",
       "      <td>ABEV</td>\n",
       "      <td>2010-03-31</td>\n",
       "      <td>1.1193</td>\n",
       "      <td>-17.8181</td>\n",
       "      <td>-27.5247</td>\n",
       "      <td>-15.917</td>\n",
       "      <td>-4.2929</td>\n",
       "      <td>0.17</td>\n",
       "      <td>-8117.1846</td>\n",
       "      <td>...</td>\n",
       "      <td>554000.0</td>\n",
       "      <td>-42.7944</td>\n",
       "      <td>-1.6973032E10</td>\n",
       "      <td>-352.5066</td>\n",
       "      <td>-5103.4483</td>\n",
       "      <td>0.1751</td>\n",
       "      <td>-1.0393</td>\n",
       "      <td>-1061.5892</td>\n",
       "      <td>-27634.8783</td>\n",
       "      <td>-1.4783E10</td>\n",
       "    </tr>\n",
       "    <tr>\n",
       "      <th>4</th>\n",
       "      <td>max</td>\n",
       "      <td>YDUQ</td>\n",
       "      <td>2023-06-30</td>\n",
       "      <td>290.4341</td>\n",
       "      <td>25.1231</td>\n",
       "      <td>32.2587</td>\n",
       "      <td>59.2751</td>\n",
       "      <td>170.946</td>\n",
       "      <td>1120.37</td>\n",
       "      <td>32079.1121</td>\n",
       "      <td>...</td>\n",
       "      <td>5.06584E11</td>\n",
       "      <td>365.5172</td>\n",
       "      <td>4.02335E11</td>\n",
       "      <td>6544.8276</td>\n",
       "      <td>348.6943</td>\n",
       "      <td>12.8748</td>\n",
       "      <td>0.3397</td>\n",
       "      <td>3716.5156</td>\n",
       "      <td>7769.3534</td>\n",
       "      <td>7.5918749E10</td>\n",
       "    </tr>\n",
       "  </tbody>\n",
       "</table>\n",
       "<p>5 rows × 31 columns</p>\n",
       "</div>"
      ]
     },
     "metadata": {
      "application/vnd.databricks.v1+output": {
       "addedWidgets": {},
       "arguments": {},
       "data": "<div>\n<style scoped>\n    .dataframe tbody tr th:only-of-type {\n        vertical-align: middle;\n    }\n\n    .dataframe tbody tr th {\n        vertical-align: top;\n    }\n\n    .dataframe thead th {\n        text-align: right;\n    }\n</style>\n<table border=\"1\" class=\"dataframe\">\n  <thead>\n    <tr style=\"text-align: right;\">\n      <th></th>\n      <th>summary</th>\n      <th>company</th>\n      <th>reference_date</th>\n      <th>assets_per_share</th>\n      <th>earnings_per_share</th>\n      <th>ebit_per_share</th>\n      <th>equity_per_share</th>\n      <th>net_sales_per_share</th>\n      <th>price</th>\n      <th>price_earnings</th>\n      <th>...</th>\n      <th>gross_debt</th>\n      <th>gross_margin</th>\n      <th>net_debt</th>\n      <th>net_margin</th>\n      <th>operating_margin</th>\n      <th>quick_liquidity</th>\n      <th>return_on_assets</th>\n      <th>return_on_equity</th>\n      <th>total_debt</th>\n      <th>working_capital</th>\n    </tr>\n  </thead>\n  <tbody>\n    <tr>\n      <th>0</th>\n      <td>count</td>\n      <td>3231</td>\n      <td>3231</td>\n      <td>3231</td>\n      <td>3231</td>\n      <td>3231</td>\n      <td>3231</td>\n      <td>3231</td>\n      <td>3231</td>\n      <td>3231</td>\n      <td>...</td>\n      <td>3169</td>\n      <td>3231</td>\n      <td>3169</td>\n      <td>3231</td>\n      <td>3231</td>\n      <td>3219</td>\n      <td>3231</td>\n      <td>3231</td>\n      <td>3231</td>\n      <td>3231</td>\n    </tr>\n    <tr>\n      <th>1</th>\n      <td>mean</td>\n      <td>None</td>\n      <td>None</td>\n      <td>29.51041287527082</td>\n      <td>1.0009197462086037</td>\n      <td>2.223296812132468</td>\n      <td>9.75656979263386</td>\n      <td>15.92680157845868</td>\n      <td>14.955023212627667</td>\n      <td>30.451856669761668</td>\n      <td>...</td>\n      <td>2.4153967246998108E10</td>\n      <td>36.90970154750852</td>\n      <td>1.7377126055075733E10</td>\n      <td>18.30191324667285</td>\n      <td>17.569853946146715</td>\n      <td>1.6804571295433355</td>\n      <td>0.04791640359021976</td>\n      <td>14.018542958836276</td>\n      <td>191.82402432683375</td>\n      <td>5.958619866685546E9</td>\n    </tr>\n    <tr>\n      <th>2</th>\n      <td>stddev</td>\n      <td>None</td>\n      <td>None</td>\n      <td>31.23118722520641</td>\n      <td>2.778336645123253</td>\n      <td>4.0667003253456375</td>\n      <td>9.559227579226919</td>\n      <td>23.07786285181474</td>\n      <td>26.095724019998833</td>\n      <td>600.9917003124518</td>\n      <td>...</td>\n      <td>6.363996287675412E10</td>\n      <td>22.629875243209167</td>\n      <td>5.103213045038494E10</td>\n      <td>120.26018775184383</td>\n      <td>98.30843448595348</td>\n      <td>0.9442293782541382</td>\n      <td>0.0749473654948325</td>\n      <td>77.70861034637232</td>\n      <td>744.520238445092</td>\n      <td>1.0337382042826942E10</td>\n    </tr>\n    <tr>\n      <th>3</th>\n      <td>min</td>\n      <td>ABEV</td>\n      <td>2010-03-31</td>\n      <td>1.1193</td>\n      <td>-17.8181</td>\n      <td>-27.5247</td>\n      <td>-15.917</td>\n      <td>-4.2929</td>\n      <td>0.17</td>\n      <td>-8117.1846</td>\n      <td>...</td>\n      <td>554000.0</td>\n      <td>-42.7944</td>\n      <td>-1.6973032E10</td>\n      <td>-352.5066</td>\n      <td>-5103.4483</td>\n      <td>0.1751</td>\n      <td>-1.0393</td>\n      <td>-1061.5892</td>\n      <td>-27634.8783</td>\n      <td>-1.4783E10</td>\n    </tr>\n    <tr>\n      <th>4</th>\n      <td>max</td>\n      <td>YDUQ</td>\n      <td>2023-06-30</td>\n      <td>290.4341</td>\n      <td>25.1231</td>\n      <td>32.2587</td>\n      <td>59.2751</td>\n      <td>170.946</td>\n      <td>1120.37</td>\n      <td>32079.1121</td>\n      <td>...</td>\n      <td>5.06584E11</td>\n      <td>365.5172</td>\n      <td>4.02335E11</td>\n      <td>6544.8276</td>\n      <td>348.6943</td>\n      <td>12.8748</td>\n      <td>0.3397</td>\n      <td>3716.5156</td>\n      <td>7769.3534</td>\n      <td>7.5918749E10</td>\n    </tr>\n  </tbody>\n</table>\n<p>5 rows × 31 columns</p>\n</div>",
       "datasetInfos": [],
       "metadata": {},
       "removedWidgets": [],
       "textData": null,
       "type": "htmlSandbox"
      }
     },
     "output_type": "display_data"
    }
   ],
   "source": [
    "descriptive_stats = filtered_df.describe().toPandas()\n",
    "\n",
    "descriptive_stats"
   ]
  },
  {
   "cell_type": "markdown",
   "metadata": {
    "application/vnd.databricks.v1+cell": {
     "cellMetadata": {
      "byteLimit": 2048000,
      "rowLimit": 10000
     },
     "inputWidgets": {},
     "nuid": "63ca4ed7-5413-40af-9763-e39ef5826ad8",
     "showTitle": false,
     "title": ""
    }
   },
   "source": [
    "Os dados apresentam alguns valores outliers, como observado em métricas como Earnings per Share, Price to Earnings e Total Debt. É importante notar que outliers são relativamente comuns no mercado financeiro devido à natureza variável das empresas e das condições econômicas. Não planejamos remover esses dados neste momento, pois essas variações extremas podem refletir eventos específicos ou características únicas de cada empresa, que são relevantes para uma análise financeira abrangente."
   ]
  },
  {
   "cell_type": "code",
   "execution_count": 0,
   "metadata": {
    "application/vnd.databricks.v1+cell": {
     "cellMetadata": {
      "byteLimit": 2048000,
      "rowLimit": 10000
     },
     "inputWidgets": {},
     "nuid": "994f3076-9c6b-4e97-a48a-8e5068bec3ab",
     "showTitle": false,
     "title": ""
    }
   },
   "outputs": [
    {
     "output_type": "stream",
     "name": "stdout",
     "output_type": "stream",
     "text": [
      "DataFrame resultante salvo com sucesso!\n"
     ]
    }
   ],
   "source": [
    "# Salvar o DataFrame resultante\n",
    "filtered_df.write.format(\"delta\").mode(\"overwrite\").saveAsTable(\"merged_ratios\")\n",
    "\n",
    "print(\"DataFrame resultante salvo com sucesso!\")"
   ]
  },
  {
   "cell_type": "markdown",
   "metadata": {
    "application/vnd.databricks.v1+cell": {
     "cellMetadata": {
      "byteLimit": 2048000,
      "rowLimit": 10000
     },
     "inputWidgets": {},
     "nuid": "d52b135b-a314-4054-b023-fe25d5a24109",
     "showTitle": false,
     "title": ""
    }
   },
   "source": [
    "\n",
    "# Catálogo de Dados: Tabela `merged_ratios`\n",
    "\n",
    "Este notebook documenta a tabela `merged_ratios`, que contém dados combinados de indicadores de mercado e financeiros das empresas listadas no IBXX.\n",
    "\n",
    "### Descrição Geral da Tabela\n",
    "\n",
    "- **Nome da Tabela**: `merged_ratios`\n",
    "- **Descrição**: Tabela contendo dados combinados de indicadores de mercado e financeiros das empresas listadas no IBXX.\n",
    "- **Esquema**: Flat\n",
    "\n",
    "### Estrutura da Tabela e Descrição dos Campos\n",
    "\n",
    "| Campo                 | Tipo de Dados | Descrição                                         | Valor Esperado                   |\n",
    "|-----------------------|---------------|---------------------------------------------------|----------------------------------|\n",
    "| **company**           | `string`      | Código da empresa                                 | Código alfanumérico único        |\n",
    "| **reference_date**    | `string`      | Data de referência                                | Formato `YYYY-MM-DD`             |\n",
    "| **assets_per_share**  | `double`      | Ativos por ação                                   | Maior que 0                      |\n",
    "| **earnings_per_share**| `double`      | Lucros por ação                                   | Pode ser positivo ou negativo    |\n",
    "| **ebit_per_share**    | `double`      | EBIT por ação                                     | Maior que 0                      |\n",
    "| **equity_per_share**  | `double`      | Patrimônio líquido por ação                       | Pode ser positivo ou negativo    |\n",
    "| **net_sales_per_share** | `double`    | Vendas líquidas por ação                          | Maior que 0                      |\n",
    "| **price**             | `double`      | Preço da ação                                     | Maior que 0                      |\n",
    "| **price_earnings**    | `double`      | Relação preço/lucro                               | Pode ser positivo ou negativo    |\n",
    "| **price_to_book**     | `double`      | Relação preço/valor patrimonial                   | Maior que 0                      |\n",
    "| **price_to_cash_flow**| `double`      | Relação preço/fluxo de caixa                      | Maior que 0                      |\n",
    "| **price_to_sales**    | `double`      | Relação preço/vendas                              | Maior que 0                      |\n",
    "| **shares**            | `bigint`      | Número de ações                                   | Maior que 0                      |\n",
    "| **ticker**            | `string`      | Ticker da empresa                                 | Código alfanumérico único        |\n",
    "| **asset_turnover**    | `double`      | Giro dos ativos                                   | Maior que 0                      |\n",
    "| **cash_liquidity**    | `double`      | Liquidez em caixa                                 | Maior que 0                      |\n",
    "| **current_liquidity** | `double`      | Liquidez corrente                                 | Maior que 0                      |\n",
    "| **ebit_margin**       | `double`      | Margem EBIT                                       | Entre -100% e 100%               |\n",
    "| **ebitda**            | `double`      | EBITDA                                            | Maior que 0                      |\n",
    "| **ebitda_margin**     | `double`      | Margem EBITDA                                     | Entre -100% e 100%               |\n",
    "| **gross_debt**        | `double`      | Dívida bruta                                      | Pode ser positivo ou negativo    |\n",
    "| **gross_margin**      | `double`      | Margem bruta                                      | Entre -100% e 100%               |\n",
    "| **net_debt**          | `double`      | Dívida líquida                                    | Pode ser positivo ou negativo    |\n",
    "| **net_margin**        | `double`      | Margem líquida                                    | Entre -100% e 100%               |\n",
    "| **operating_margin**  | `double`      | Margem operacional                                | Entre -100% e 100%               |\n",
    "| **period_init**       | `string`      | Data de início do período                         | Formato `YYYY-MM-DD`             |\n",
    "| **period_type**       | `string`      | Tipo de período (por exemplo, trimestral ou anual)| 'trimestral' ou 'anual'          |\n",
    "| **quick_liquidity**   | `double`      | Liquidez rápida                                   | Maior que 0                      |\n",
    "| **return_on_assets**  | `double`      | Retorno sobre os ativos                           | Entre -100% e 100%               |\n",
    "| **return_on_equity**  | `double`      | Retorno sobre o patrimônio líquido                | Entre -100% e 100%               |\n",
    "| **total_debt**        | `double`      | Dívida total                                      | Pode ser positivo ou negativo    |\n",
    "| **working_capital**   | `double`      | Capital de giro                                   | Pode ser positivo ou negativo    |\n",
    "\n",
    "\n",
    "### Linhagem dos Dados\n",
    "\n",
    "- **Fonte**: Dados coletados pela API do site dadosdemercado.\n",
    "- **Processamento**: Transformação e limpeza de dados realizadas no Databricks utilizando Spark SQL.\n",
    "- **Carga**: Dados carregados e armazenados em formato Delta para garantir eficiência em operações de leitura e escrita.\n",
    "\n",
    "### Definições de Metadados em SQL"
   ]
  },
  {
   "cell_type": "code",
   "execution_count": 0,
   "metadata": {
    "application/vnd.databricks.v1+cell": {
     "cellMetadata": {
      "byteLimit": 2048000,
      "rowLimit": 10000
     },
     "inputWidgets": {},
     "nuid": "91475574-e89a-4b4d-a644-da9c5d475572",
     "showTitle": false,
     "title": ""
    }
   },
   "outputs": [
    {
     "output_type": "stream",
     "name": "stdout",
     "output_type": "stream",
     "text": [
      "Out[17]: DataFrame[]"
     ]
    }
   ],
   "source": [
    "# Definir descrições para os campos da tabela\n",
    "spark.sql(\"\"\"\n",
    "    ALTER TABLE merged_ratios\n",
    "    SET TBLPROPERTIES (\n",
    "        'description' = 'Tabela contendo dados combinados de indicadores de mercado e financeiros das empresas listadas no IBXX.',\n",
    "        'company.description' = 'Código da empresa',\n",
    "        'reference_date.description' = 'Data de referência',\n",
    "        'assets_per_share.description' = 'Ativos por ação',\n",
    "        'earnings_per_share.description' = 'Lucros por ação',\n",
    "        'ebit_per_share.description' = 'EBIT por ação',\n",
    "        'equity_per_share.description' = 'Patrimônio líquido por ação',\n",
    "        'net_sales_per_share.description' = 'Vendas líquidas por ação',\n",
    "        'price.description' = 'Preço da ação',\n",
    "        'price_earnings.description' = 'Relação preço/lucro',\n",
    "        'price_to_book.description' = 'Relação preço/valor patrimonial',\n",
    "        'price_to_cash_flow.description' = 'Relação preço/fluxo de caixa',\n",
    "        'price_to_sales.description' = 'Relação preço/vendas',\n",
    "        'shares.description' = 'Número de ações',\n",
    "        'ticker.description' = 'Ticker da empresa',\n",
    "        'asset_turnover.description' = 'Giro dos ativos',\n",
    "        'cash_liquidity.description' = 'Liquidez em caixa',\n",
    "        'current_liquidity.description' = 'Liquidez corrente',\n",
    "        'ebit_margin.description' = 'Margem EBIT',\n",
    "        'ebitda.description' = 'EBITDA',\n",
    "        'ebitda_margin.description' = 'Margem EBITDA',\n",
    "        'gross_debt.description' = 'Dívida bruta',\n",
    "        'gross_margin.description' = 'Margem bruta',\n",
    "        'net_debt.description' = 'Dívida líquida',\n",
    "        'net_margin.description' = 'Margem líquida',\n",
    "        'operating_margin.description' = 'Margem operacional',\n",
    "        'period_init.description' = 'Data de início do período',\n",
    "        'period_type.description' = 'Tipo de período (por exemplo, trimestral ou anual)',\n",
    "        'quick_liquidity.description' = 'Liquidez rápida',\n",
    "        'return_on_assets.description' = 'Retorno sobre os ativos',\n",
    "        'return_on_equity.description' = 'Retorno sobre o patrimônio líquido',\n",
    "        'statement_type.description' = 'Tipo de demonstrativo financeiro (por exemplo, consolidado)',\n",
    "        'total_debt.description' = 'Dívida total',\n",
    "        'working_capital.description' = 'Capital de giro'\n",
    "    )\n",
    "\"\"\")\n",
    "\n"
   ]
  },
  {
   "cell_type": "markdown",
   "metadata": {
    "application/vnd.databricks.v1+cell": {
     "cellMetadata": {},
     "inputWidgets": {},
     "nuid": "95d52dde-1bb8-4ff7-a041-55229f8d6327",
     "showTitle": false,
     "title": ""
    }
   },
   "source": [
    "# Perguntas:\n",
    "\n",
    "### Como os Indicadores Financeiros Evoluíram ao Longo do Tempo?\n",
    "Abaixo, consultamos a média dos principais indicadores financeiros agrupados por data de referência, permitindo observar sua evolução ao longo do tempo.\n",
    "\n"
   ]
  },
  {
   "cell_type": "code",
   "execution_count": 0,
   "metadata": {
    "application/vnd.databricks.v1+cell": {
     "cellMetadata": {
      "byteLimit": 2048000,
      "implicitDf": true,
      "rowLimit": 10000
     },
     "inputWidgets": {},
     "nuid": "d379cae2-bb8a-4ad0-ac26-af01750c6eeb",
     "showTitle": false,
     "title": ""
    }
   },
   "outputs": [
    {
     "output_type": "display_data",
     "data": {
      "text/html": [
       "<style scoped>\n",
       "  .table-result-container {\n",
       "    max-height: 300px;\n",
       "    overflow: auto;\n",
       "  }\n",
       "  table, th, td {\n",
       "    border: 1px solid black;\n",
       "    border-collapse: collapse;\n",
       "  }\n",
       "  th, td {\n",
       "    padding: 5px;\n",
       "  }\n",
       "  th {\n",
       "    text-align: left;\n",
       "  }\n",
       "</style><div class='table-result-container'><table class='table-result'><thead style='background-color: white'><tr><th>reference_date</th><th>avg_price</th><th>avg_price_earnings</th><th>avg_price_to_book</th><th>avg_price_to_cash_flow</th><th>avg_price_to_sales</th><th>avg_ebit_margin</th><th>avg_ebitda_margin</th><th>avg_gross_margin</th><th>avg_net_margin</th><th>avg_operating_margin</th><th>avg_return_on_assets</th><th>avg_return_on_equity</th></tr></thead><tbody><tr><td>2010-03-31</td><td>3.75</td><td>9.7394</td><td>0.9216</td><td>3.0980999999999996</td><td>0.79335</td><td>8.7751</td><td>24.327150000000003</td><td>18.88045</td><td>7.9008</td><td>10.96545</td><td>0.0456</td><td>11.548</td></tr><tr><td>2011-03-31</td><td>9.937820512820512</td><td>14.322315384615385</td><td>2.1665756410256414</td><td>0.9822512820512826</td><td>2.2413705128205126</td><td>4.631148717948717</td><td>11.073244871794872</td><td>35.69862948717949</td><td>19.164121794871797</td><td>25.384642307692314</td><td>0.06774230769230769</td><td>15.410796153846155</td></tr><tr><td>2011-06-30</td><td>8.446235294117647</td><td>22.28045411764706</td><td>2.5674694117647054</td><td>14.186663529411764</td><td>2.220994117647059</td><td>3.3052988235294123</td><td>9.969002352941178</td><td>34.482028235294116</td><td>17.158541176470585</td><td>23.09232705882353</td><td>0.0631564705882353</td><td>14.858682352941175</td></tr><tr><td>2011-09-30</td><td>7.719195402298851</td><td>17.997165517241378</td><td>2.311328735632184</td><td>146.17304712643678</td><td>2.034083908045977</td><td>2.012209195402297</td><td>8.992528735632183</td><td>32.89570344827586</td><td>16.241070114942527</td><td>20.498541379310346</td><td>0.057019540229885056</td><td>13.363436781609195</td></tr><tr><td>2013-09-30</td><td>8.852168674698797</td><td>13.644655421686744</td><td>2.0304024096385542</td><td>12.867543373493977</td><td>1.9803614457831327</td><td>17.351519277108434</td><td>23.281332530120483</td><td>31.951361445783135</td><td>12.877232530120486</td><td>15.418089156626507</td><td>0.047977108433734934</td><td>9.990843373493975</td></tr><tr><td>2014-03-31</td><td>8.678604651162791</td><td>9.963123255813954</td><td>2.2816093023255815</td><td>5.483447674418606</td><td>2.363829069767442</td><td>20.831156976744186</td><td>27.01844418604651</td><td>34.25084302325581</td><td>13.223746511627908</td><td>16.064418604651163</td><td>0.049973255813953496</td><td>9.986739534883721</td></tr><tr><td>2014-06-30</td><td>8.695714285714287</td><td>10.22109761904762</td><td>2.1969369047619045</td><td>7.899186904761905</td><td>2.3241380952380952</td><td>23.12429404761905</td><td>29.752844047619046</td><td>32.54790952380953</td><td>16.708824999999997</td><td>21.644573809523813</td><td>0.05268571428571429</td><td>11.043616666666667</td></tr><tr><td>2014-09-30</td><td>8.41067415730337</td><td>13.114121348314608</td><td>2.0824494382022474</td><td>6.741003370786517</td><td>2.2080157303370793</td><td>23.63916741573034</td><td>30.115628089887636</td><td>33.52575730337078</td><td>16.607331460674153</td><td>20.403480898876406</td><td>0.04766966292134832</td><td>9.20456966292135</td></tr><tr><td>2015-03-31</td><td>8.056914893617021</td><td>-8.653598936170214</td><td>0.982674468085107</td><td>13.407104255319148</td><td>2.379928723404255</td><td>21.970819148936172</td><td>29.51370106382979</td><td>31.797859574468088</td><td>11.262908510638294</td><td>12.559329787234043</td><td>0.0315968085106383</td><td>44.51856063829786</td></tr><tr><td>2015-06-30</td><td>8.583695652173912</td><td>5.569517391304347</td><td>2.4162891304347824</td><td>12.435951086956518</td><td>2.2951</td><td>16.87741956521739</td><td>24.8440347826087</td><td>31.205842391304348</td><td>6.950746739130434</td><td>8.125882608695653</td><td>0.021228260869565224</td><td>-0.36937065217391185</td></tr><tr><td>2015-09-30</td><td>7.153052631578948</td><td>7.371397894736842</td><td>2.1310284210526316</td><td>10.450434736842105</td><td>2.1555515789473683</td><td>17.17447052631579</td><td>25.25754315789473</td><td>31.695707368421054</td><td>4.273706315789471</td><td>3.900669473684212</td><td>0.012010526315789471</td><td>8.466685263157895</td></tr><tr><td>2016-03-31</td><td>7.95561797752809</td><td>-8.76966741573034</td><td>1.951604494382022</td><td>2.191630337078652</td><td>2.00323595505618</td><td>17.52557078651685</td><td>24.774660674157307</td><td>32.24997191011235</td><td>9.452567415730337</td><td>10.545631460674159</td><td>0.017442696629213484</td><td>4.4613674157303365</td></tr><tr><td>2016-06-30</td><td>8.3971875</td><td>36.18446979166667</td><td>2.382776041666667</td><td>12.623802083333333</td><td>2.003592708333333</td><td>20.115040625000002</td><td>27.764915625</td><td>32.1662125</td><td>11.31744375</td><td>13.534368749999997</td><td>0.019998958333333334</td><td>5.534763541666666</td></tr><tr><td>2016-09-30</td><td>9.346930693069307</td><td>-71.07681584158415</td><td>2.5338821782178216</td><td>10.98598316831683</td><td>2.1719188118811883</td><td>20.87991782178218</td><td>28.89738316831683</td><td>32.577851485148514</td><td>14.807865346534653</td><td>18.751499999999997</td><td>0.03461881188118812</td><td>8.164372277227722</td></tr><tr><td>2017-03-31</td><td>10.222736842105265</td><td>9.808335789473684</td><td>2.4653368421052635</td><td>12.748805263157891</td><td>2.380542105263158</td><td>24.852373684210527</td><td>33.78521789473684</td><td>33.93829894736843</td><td>16.509301052631578</td><td>20.968871578947372</td><td>0.04209368421052632</td><td>9.549466315789475</td></tr><tr><td>2017-06-30</td><td>9.772589285714288</td><td>27.252133035714287</td><td>2.543984821428572</td><td>17.273641071428575</td><td>2.445835714285715</td><td>29.21033392857143</td><td>37.42221249999999</td><td>37.25251428571429</td><td>17.460135714285716</td><td>21.283748214285712</td><td>0.044451785714285715</td><td>8.98930625</td></tr><tr><td>2019-09-30</td><td>25.99477272727272</td><td>43.83788484848485</td><td>2.833329545454545</td><td>-77.45520984848484</td><td>3.6358878787878792</td><td>30.525051515151517</td><td>38.80113893129771</td><td>36.640309848484854</td><td>21.71647045454546</td><td>24.400295454545454</td><td>0.0504409090909091</td><td>12.354501515151513</td></tr><tr><td>2020-03-31</td><td>15.421603053435115</td><td>16.775284732824424</td><td>2.2418343511450383</td><td>25.094319847328237</td><td>2.604514503816793</td><td>27.999899236641223</td><td>36.88796769230769</td><td>37.074081679389316</td><td>15.658924427480914</td><td>16.363036641221374</td><td>0.02857328244274809</td><td>20.27538702290076</td></tr><tr><td>2020-06-30</td><td>19.64029629629629</td><td>32.95847851851852</td><td>3.3994237037037034</td><td>20.00701111111111</td><td>3.1743414814814814</td><td>25.053134814814815</td><td>34.33164552238806</td><td>35.18594</td><td>11.329842222222222</td><td>11.828402222222218</td><td>0.01244074074074074</td><td>15.388264444444454</td></tr><tr><td>2020-09-30</td><td>19.076642335766422</td><td>24.87130072992701</td><td>3.894143795620438</td><td>-30.987963503649627</td><td>3.1589167883211675</td><td>25.998303649635037</td><td>35.56983970588235</td><td>35.940305839416055</td><td>11.571208029197077</td><td>13.727564963503648</td><td>0.018289051094890506</td><td>5.876046715328475</td></tr><tr><td>2021-03-31</td><td>22.52394366197183</td><td>37.74218591549296</td><td>7.945195774647886</td><td>23.769391549295783</td><td>3.7541373239436617</td><td>28.274272535211264</td><td>37.571909219858156</td><td>38.65398521126761</td><td>17.81892887323944</td><td>20.891966197183102</td><td>0.05326901408450704</td><td>16.45810070422535</td></tr><tr><td>2021-06-30</td><td>24.60051948051948</td><td>28.433044805194807</td><td>4.220878571428571</td><td>10.079772727272728</td><td>3.7108077922077918</td><td>31.865047402597398</td><td>39.537323529411765</td><td>39.374658441558445</td><td>23.943607142857147</td><td>29.440362987012985</td><td>0.08412467532467534</td><td>24.542131168831165</td></tr><tr><td>2021-09-30</td><td>22.723618421052635</td><td>229.43115328947374</td><td>3.3783000000000003</td><td>8.409202631578944</td><td>3.2527394736842097</td><td>32.345749999999995</td><td>40.47152185430464</td><td>39.50352697368422</td><td>24.018119078947365</td><td>28.722251973684205</td><td>0.08907499999999997</td><td>27.120373026315782</td></tr><tr><td>2022-03-31</td><td>19.770987654320987</td><td>4.749285802469139</td><td>2.837606790123457</td><td>-71.66706913580246</td><td>3.218142592592592</td><td>34.22610370370371</td><td>42.46966956521739</td><td>41.86637098765432</td><td>24.81982592592592</td><td>30.79592962962963</td><td>0.09233209876543211</td><td>23.16716728395062</td></tr><tr><td>2022-06-30</td><td>16.454193548387096</td><td>3.413746451612903</td><td>2.2039245161290326</td><td>-66.13058709677419</td><td>2.633361935483871</td><td>32.89904451612903</td><td>41.381313636363636</td><td>42.069532903225806</td><td>17.701726451612902</td><td>19.372830322580644</td><td>0.06538193548387097</td><td>18.21309483870968</td></tr><tr><td>2022-09-30</td><td>16.4356043956044</td><td>101.83942087912091</td><td>2.068617032967033</td><td>12.069674175824181</td><td>4.968467582417584</td><td>18.1587043956044</td><td>33.21296464088397</td><td>44.86265000000001</td><td>52.50825054945054</td><td>-9.894797252747257</td><td>0.0550978021978022</td><td>13.818121428571432</td></tr><tr><td>2023-03-31</td><td>14.944836956521737</td><td>32.317475000000016</td><td>1.939341304347826</td><td>5.003511956521739</td><td>2.948391304347827</td><td>33.68060326086957</td><td>42.68076666666665</td><td>41.41699184782608</td><td>15.671572282608697</td><td>16.261496739130433</td><td>0.042820108695652156</td><td>8.71861847826087</td></tr><tr><td>2023-06-30</td><td>19.21406091370558</td><td>18.521354314720817</td><td>2.1939517766497465</td><td>27.560951776649745</td><td>3.3349822335025383</td><td>31.615791878172598</td><td>40.46779081632653</td><td>39.57166548223351</td><td>17.80024111675127</td><td>20.44307512690355</td><td>0.043205583756345166</td><td>7.526514213197967</td></tr></tbody></table></div>"
      ]
     },
     "metadata": {
      "application/vnd.databricks.v1+output": {
       "addedWidgets": {},
       "aggData": [],
       "aggError": "",
       "aggOverflow": false,
       "aggSchema": [],
       "aggSeriesLimitReached": false,
       "aggType": "",
       "arguments": {},
       "columnCustomDisplayInfos": {},
       "data": [
        [
         "2010-03-31",
         3.75,
         9.7394,
         0.9216,
         3.0980999999999996,
         0.79335,
         8.7751,
         24.327150000000003,
         18.88045,
         7.9008,
         10.96545,
         0.0456,
         11.548
        ],
        [
         "2011-03-31",
         9.937820512820512,
         14.322315384615385,
         2.1665756410256414,
         0.9822512820512826,
         2.2413705128205126,
         4.631148717948717,
         11.073244871794872,
         35.69862948717949,
         19.164121794871797,
         25.384642307692314,
         0.06774230769230769,
         15.410796153846155
        ],
        [
         "2011-06-30",
         8.446235294117647,
         22.28045411764706,
         2.5674694117647054,
         14.186663529411764,
         2.220994117647059,
         3.3052988235294123,
         9.969002352941178,
         34.482028235294116,
         17.158541176470585,
         23.09232705882353,
         0.0631564705882353,
         14.858682352941175
        ],
        [
         "2011-09-30",
         7.719195402298851,
         17.997165517241378,
         2.311328735632184,
         146.17304712643678,
         2.034083908045977,
         2.012209195402297,
         8.992528735632183,
         32.89570344827586,
         16.241070114942527,
         20.498541379310346,
         0.057019540229885056,
         13.363436781609195
        ],
        [
         "2013-09-30",
         8.852168674698797,
         13.644655421686744,
         2.0304024096385542,
         12.867543373493977,
         1.9803614457831327,
         17.351519277108434,
         23.281332530120483,
         31.951361445783135,
         12.877232530120486,
         15.418089156626507,
         0.047977108433734934,
         9.990843373493975
        ],
        [
         "2014-03-31",
         8.678604651162791,
         9.963123255813954,
         2.2816093023255815,
         5.483447674418606,
         2.363829069767442,
         20.831156976744186,
         27.01844418604651,
         34.25084302325581,
         13.223746511627908,
         16.064418604651163,
         0.049973255813953496,
         9.986739534883721
        ],
        [
         "2014-06-30",
         8.695714285714287,
         10.22109761904762,
         2.1969369047619045,
         7.899186904761905,
         2.3241380952380952,
         23.12429404761905,
         29.752844047619046,
         32.54790952380953,
         16.708824999999997,
         21.644573809523813,
         0.05268571428571429,
         11.043616666666667
        ],
        [
         "2014-09-30",
         8.41067415730337,
         13.114121348314608,
         2.0824494382022474,
         6.741003370786517,
         2.2080157303370793,
         23.63916741573034,
         30.115628089887636,
         33.52575730337078,
         16.607331460674153,
         20.403480898876406,
         0.04766966292134832,
         9.20456966292135
        ],
        [
         "2015-03-31",
         8.056914893617021,
         -8.653598936170214,
         0.982674468085107,
         13.407104255319148,
         2.379928723404255,
         21.970819148936172,
         29.51370106382979,
         31.797859574468088,
         11.262908510638294,
         12.559329787234043,
         0.0315968085106383,
         44.51856063829786
        ],
        [
         "2015-06-30",
         8.583695652173912,
         5.569517391304347,
         2.4162891304347824,
         12.435951086956518,
         2.2951,
         16.87741956521739,
         24.8440347826087,
         31.205842391304348,
         6.950746739130434,
         8.125882608695653,
         0.021228260869565224,
         -0.36937065217391185
        ],
        [
         "2015-09-30",
         7.153052631578948,
         7.371397894736842,
         2.1310284210526316,
         10.450434736842105,
         2.1555515789473683,
         17.17447052631579,
         25.25754315789473,
         31.695707368421054,
         4.273706315789471,
         3.900669473684212,
         0.012010526315789471,
         8.466685263157895
        ],
        [
         "2016-03-31",
         7.95561797752809,
         -8.76966741573034,
         1.951604494382022,
         2.191630337078652,
         2.00323595505618,
         17.52557078651685,
         24.774660674157307,
         32.24997191011235,
         9.452567415730337,
         10.545631460674159,
         0.017442696629213484,
         4.4613674157303365
        ],
        [
         "2016-06-30",
         8.3971875,
         36.18446979166667,
         2.382776041666667,
         12.623802083333333,
         2.003592708333333,
         20.115040625000002,
         27.764915625,
         32.1662125,
         11.31744375,
         13.534368749999997,
         0.019998958333333334,
         5.534763541666666
        ],
        [
         "2016-09-30",
         9.346930693069307,
         -71.07681584158415,
         2.5338821782178216,
         10.98598316831683,
         2.1719188118811883,
         20.87991782178218,
         28.89738316831683,
         32.577851485148514,
         14.807865346534653,
         18.751499999999997,
         0.03461881188118812,
         8.164372277227722
        ],
        [
         "2017-03-31",
         10.222736842105265,
         9.808335789473684,
         2.4653368421052635,
         12.748805263157891,
         2.380542105263158,
         24.852373684210527,
         33.78521789473684,
         33.93829894736843,
         16.509301052631578,
         20.968871578947372,
         0.04209368421052632,
         9.549466315789475
        ],
        [
         "2017-06-30",
         9.772589285714288,
         27.252133035714287,
         2.543984821428572,
         17.273641071428575,
         2.445835714285715,
         29.21033392857143,
         37.42221249999999,
         37.25251428571429,
         17.460135714285716,
         21.283748214285712,
         0.044451785714285715,
         8.98930625
        ],
        [
         "2019-09-30",
         25.99477272727272,
         43.83788484848485,
         2.833329545454545,
         -77.45520984848484,
         3.6358878787878792,
         30.525051515151517,
         38.80113893129771,
         36.640309848484854,
         21.71647045454546,
         24.400295454545454,
         0.0504409090909091,
         12.354501515151513
        ],
        [
         "2020-03-31",
         15.421603053435115,
         16.775284732824424,
         2.2418343511450383,
         25.094319847328237,
         2.604514503816793,
         27.999899236641223,
         36.88796769230769,
         37.074081679389316,
         15.658924427480914,
         16.363036641221374,
         0.02857328244274809,
         20.27538702290076
        ],
        [
         "2020-06-30",
         19.64029629629629,
         32.95847851851852,
         3.3994237037037034,
         20.00701111111111,
         3.1743414814814814,
         25.053134814814815,
         34.33164552238806,
         35.18594,
         11.329842222222222,
         11.828402222222218,
         0.01244074074074074,
         15.388264444444454
        ],
        [
         "2020-09-30",
         19.076642335766422,
         24.87130072992701,
         3.894143795620438,
         -30.987963503649627,
         3.1589167883211675,
         25.998303649635037,
         35.56983970588235,
         35.940305839416055,
         11.571208029197077,
         13.727564963503648,
         0.018289051094890506,
         5.876046715328475
        ],
        [
         "2021-03-31",
         22.52394366197183,
         37.74218591549296,
         7.945195774647886,
         23.769391549295783,
         3.7541373239436617,
         28.274272535211264,
         37.571909219858156,
         38.65398521126761,
         17.81892887323944,
         20.891966197183102,
         0.05326901408450704,
         16.45810070422535
        ],
        [
         "2021-06-30",
         24.60051948051948,
         28.433044805194807,
         4.220878571428571,
         10.079772727272728,
         3.7108077922077918,
         31.865047402597398,
         39.537323529411765,
         39.374658441558445,
         23.943607142857147,
         29.440362987012985,
         0.08412467532467534,
         24.542131168831165
        ],
        [
         "2021-09-30",
         22.723618421052635,
         229.43115328947374,
         3.3783000000000003,
         8.409202631578944,
         3.2527394736842097,
         32.345749999999995,
         40.47152185430464,
         39.50352697368422,
         24.018119078947365,
         28.722251973684205,
         0.08907499999999997,
         27.120373026315782
        ],
        [
         "2022-03-31",
         19.770987654320987,
         4.749285802469139,
         2.837606790123457,
         -71.66706913580246,
         3.218142592592592,
         34.22610370370371,
         42.46966956521739,
         41.86637098765432,
         24.81982592592592,
         30.79592962962963,
         0.09233209876543211,
         23.16716728395062
        ],
        [
         "2022-06-30",
         16.454193548387096,
         3.413746451612903,
         2.2039245161290326,
         -66.13058709677419,
         2.633361935483871,
         32.89904451612903,
         41.381313636363636,
         42.069532903225806,
         17.701726451612902,
         19.372830322580644,
         0.06538193548387097,
         18.21309483870968
        ],
        [
         "2022-09-30",
         16.4356043956044,
         101.83942087912091,
         2.068617032967033,
         12.069674175824181,
         4.968467582417584,
         18.1587043956044,
         33.21296464088397,
         44.86265000000001,
         52.50825054945054,
         -9.894797252747257,
         0.0550978021978022,
         13.818121428571432
        ],
        [
         "2023-03-31",
         14.944836956521737,
         32.317475000000016,
         1.939341304347826,
         5.003511956521739,
         2.948391304347827,
         33.68060326086957,
         42.68076666666665,
         41.41699184782608,
         15.671572282608697,
         16.261496739130433,
         0.042820108695652156,
         8.71861847826087
        ],
        [
         "2023-06-30",
         19.21406091370558,
         18.521354314720817,
         2.1939517766497465,
         27.560951776649745,
         3.3349822335025383,
         31.615791878172598,
         40.46779081632653,
         39.57166548223351,
         17.80024111675127,
         20.44307512690355,
         0.043205583756345166,
         7.526514213197967
        ]
       ],
       "datasetInfos": [],
       "dbfsResultPath": null,
       "isJsonSchema": true,
       "metadata": {},
       "overflow": false,
       "plotOptions": {
        "customPlotOptions": {},
        "displayType": "table",
        "pivotAggregation": null,
        "pivotColumns": null,
        "xColumns": null,
        "yColumns": null
       },
       "removedWidgets": [],
       "schema": [
        {
         "metadata": "{}",
         "name": "reference_date",
         "type": "\"string\""
        },
        {
         "metadata": "{}",
         "name": "avg_price",
         "type": "\"double\""
        },
        {
         "metadata": "{}",
         "name": "avg_price_earnings",
         "type": "\"double\""
        },
        {
         "metadata": "{}",
         "name": "avg_price_to_book",
         "type": "\"double\""
        },
        {
         "metadata": "{}",
         "name": "avg_price_to_cash_flow",
         "type": "\"double\""
        },
        {
         "metadata": "{}",
         "name": "avg_price_to_sales",
         "type": "\"double\""
        },
        {
         "metadata": "{}",
         "name": "avg_ebit_margin",
         "type": "\"double\""
        },
        {
         "metadata": "{}",
         "name": "avg_ebitda_margin",
         "type": "\"double\""
        },
        {
         "metadata": "{}",
         "name": "avg_gross_margin",
         "type": "\"double\""
        },
        {
         "metadata": "{}",
         "name": "avg_net_margin",
         "type": "\"double\""
        },
        {
         "metadata": "{}",
         "name": "avg_operating_margin",
         "type": "\"double\""
        },
        {
         "metadata": "{}",
         "name": "avg_return_on_assets",
         "type": "\"double\""
        },
        {
         "metadata": "{}",
         "name": "avg_return_on_equity",
         "type": "\"double\""
        }
       ],
       "type": "table"
      }
     },
     "output_type": "display_data"
    }
   ],
   "source": [
    "%sql\n",
    "SELECT \n",
    "    reference_date,\n",
    "    AVG(price) AS avg_price,\n",
    "    AVG(price_earnings) AS avg_price_earnings,\n",
    "    AVG(price_to_book) AS avg_price_to_book,\n",
    "    AVG(price_to_cash_flow) AS avg_price_to_cash_flow,\n",
    "    AVG(price_to_sales) AS avg_price_to_sales,\n",
    "    AVG(ebit_margin) AS avg_ebit_margin,\n",
    "    AVG(ebitda_margin) AS avg_ebitda_margin,\n",
    "    AVG(gross_margin) AS avg_gross_margin,\n",
    "    AVG(net_margin) AS avg_net_margin,\n",
    "    AVG(operating_margin) AS avg_operating_margin,\n",
    "    AVG(return_on_assets) AS avg_return_on_assets,\n",
    "    AVG(return_on_equity) AS avg_return_on_equity\n",
    "FROM \n",
    "    merged_ratios\n",
    "GROUP BY \n",
    "    reference_date\n",
    "ORDER BY \n",
    "    reference_date;\n"
   ]
  },
  {
   "cell_type": "markdown",
   "metadata": {
    "application/vnd.databricks.v1+cell": {
     "cellMetadata": {},
     "inputWidgets": {},
     "nuid": "3c37565f-1cde-4189-98e9-f89592c5a9cc",
     "showTitle": false,
     "title": ""
    }
   },
   "source": [
    "\n",
    "1. **avg_price (Preço Médio)**\n",
    "   - O preço médio varia significativamente ao longo do tempo.\n",
    "   - Em 2010, o preço médio é baixo (3.75), mas aumenta substancialmente em 2021 (24.60) e mantém-se alto.\n",
    "   - Indica um crescimento no valor das ações ao longo do período, possivelmente refletindo uma valorização geral do mercado.\n",
    "\n",
    "2. **avg_price_earnings (Preço/Lucro Médio)**\n",
    "   - Variações extremas podem ser observadas, como em 2016 (-71.08) e 2021 (229.43), sugerindo flutuações significativas nos lucros em relação aos preços.\n",
    "   - Estas variações extremas podem indicar períodos de volatilidade ou eventos significativos no mercado que afetaram os lucros das empresas.\n",
    "\n",
    "3. **avg_price_to_book (Preço/Valor Patrimonial Médio)**\n",
    "   - Valores consistentes ao longo do tempo com aumentos notáveis em 2021 (7.95).\n",
    "   - Um aumento neste índice pode indicar uma valorização das ações em relação ao valor patrimonial da empresa.\n",
    "\n",
    "4. **avg_price_to_cash_flow (Preço/Fluxo de Caixa Médio)**\n",
    "   - Variações significativas, especialmente em 2011 e 2020 com valores negativos ou extremamente altos.\n",
    "   - Flutuações indicam períodos de instabilidade no fluxo de caixa das empresas.\n",
    "\n",
    "5. **avg_price_to_sales (Preço/Vendas Médio)**\n",
    "   - Geralmente estável, com um aumento gradual ao longo do tempo.\n",
    "   - Reflete uma correlação entre o crescimento das vendas e a valorização das ações.\n",
    "\n",
    "6. **avg_ebit_margin (Margem EBIT Média)**\n",
    "   - Aumenta ao longo do tempo, especialmente notável em 2019 (30.53) e em 2022 (34.23).\n",
    "   - Sugere uma melhoria na eficiência operacional das empresas.\n",
    "\n",
    "7. **avg_ebitda_margin (Margem EBITDA Média)**\n",
    "   - Aumento consistente ao longo do tempo, indicando melhoria na capacidade de gerar lucro operacional.\n",
    "   - Valores mais altos em 2021 e 2022 refletem uma forte performance operacional.\n",
    "\n",
    "8. **avg_gross_margin (Margem Bruta Média)**\n",
    "   - Relativamente estável, com pequenos aumentos ao longo do tempo.\n",
    "   - Indica uma manutenção na capacidade de gerar lucro bruto.\n",
    "\n",
    "9. **avg_net_margin (Margem Líquida Média)**\n",
    "   - Melhora ao longo do tempo, com picos em 2021 (24.02) e 2022 (24.82).\n",
    "   - Reflete a capacidade das empresas de transformar receita em lucro líquido.\n",
    "\n",
    "10. **avg_operating_margin (Margem Operacional Média)**\n",
    "    - Aumenta gradualmente, especialmente em 2021 (29.44).\n",
    "    - Demonstra uma melhoria na eficiência das operações principais das empresas.\n",
    "\n",
    "11. **avg_return_on_assets (Retorno sobre Ativos Médio)**\n",
    "    - Relativamente estável, com uma ligeira tendência de aumento.\n",
    "    - Valores mais altos indicam melhor utilização dos ativos para gerar lucro.\n",
    "\n",
    "12. **avg_return_on_equity (Retorno sobre Patrimônio Líquido Médio)**\n",
    "    - Aumenta substancialmente em 2015 (44.52) e 2021 (27.12).\n",
    "    - Alta variação sugere períodos de forte retorno sobre o patrimônio, indicando uma boa rentabilidade para os acionistas.\n",
    "\n",
    "- **Tendências de Crescimento**: Vários indicadores mostram uma tendência de crescimento ao longo do tempo, como o preço médio, margem EBIT e EBITDA, sugerindo uma valorização geral e melhor eficiência operacional das empresas.\n",
    "\n",
    "- **Variações e Volatilidade**: Algumas métricas, como o Preço/Lucro e Preço/Fluxo de Caixa, apresentam variações significativas, indicando períodos de alta volatilidade ou mudanças substanciais no desempenho financeiro.\n",
    "\n",
    "- **Eficiência e Rentabilidade**: A melhoria nas margens e retornos sugere que as empresas estão se tornando mais eficientes e rentáveis ao longo do tempo.\n",
    "\n",
    "### Quais Indicadores Têm Maior Influência no Preço das Ações?\n",
    "Calculamos a correlação entre o preço das ações e vários indicadores financeiros para identificar quais têm a maior influência no preço.\n",
    "\n"
   ]
  },
  {
   "cell_type": "code",
   "execution_count": 0,
   "metadata": {
    "application/vnd.databricks.v1+cell": {
     "cellMetadata": {
      "byteLimit": 2048000,
      "implicitDf": true,
      "rowLimit": 10000
     },
     "inputWidgets": {},
     "nuid": "1c35dd07-d030-4832-a29a-29bdaec495c0",
     "showTitle": false,
     "title": ""
    }
   },
   "outputs": [
    {
     "output_type": "display_data",
     "data": {
      "text/html": [
       "<style scoped>\n",
       "  .table-result-container {\n",
       "    max-height: 300px;\n",
       "    overflow: auto;\n",
       "  }\n",
       "  table, th, td {\n",
       "    border: 1px solid black;\n",
       "    border-collapse: collapse;\n",
       "  }\n",
       "  th, td {\n",
       "    padding: 5px;\n",
       "  }\n",
       "  th {\n",
       "    text-align: left;\n",
       "  }\n",
       "</style><div class='table-result-container'><table class='table-result'><thead style='background-color: white'><tr><th>corr_price_earnings</th><th>corr_price_to_book</th><th>corr_price_to_cash_flow</th><th>corr_price_to_sales</th><th>corr_ebit_margin</th><th>corr_ebitda_margin</th><th>corr_gross_margin</th><th>corr_net_margin</th><th>corr_operating_margin</th><th>corr_return_on_assets</th><th>corr_return_on_equity</th></tr></thead><tbody><tr><td>0.033424286969393806</td><td>0.1764593627866189</td><td>-0.01692781991384658</td><td>0.09187876982286519</td><td>-0.01191429418335323</td><td>0.002154036949114421</td><td>0.04434096045915393</td><td>-0.003362660499428944</td><td>-0.011744780747635264</td><td>0.025437343625672033</td><td>0.009506287119920572</td></tr></tbody></table></div>"
      ]
     },
     "metadata": {
      "application/vnd.databricks.v1+output": {
       "addedWidgets": {},
       "aggData": [],
       "aggError": "",
       "aggOverflow": false,
       "aggSchema": [],
       "aggSeriesLimitReached": false,
       "aggType": "",
       "arguments": {},
       "columnCustomDisplayInfos": {},
       "data": [
        [
         0.033424286969393806,
         0.1764593627866189,
         -0.01692781991384658,
         0.09187876982286519,
         -0.01191429418335323,
         0.002154036949114421,
         0.04434096045915393,
         -0.003362660499428944,
         -0.011744780747635264,
         0.025437343625672033,
         0.009506287119920572
        ]
       ],
       "datasetInfos": [],
       "dbfsResultPath": null,
       "isJsonSchema": true,
       "metadata": {},
       "overflow": false,
       "plotOptions": {
        "customPlotOptions": {},
        "displayType": "table",
        "pivotAggregation": null,
        "pivotColumns": null,
        "xColumns": null,
        "yColumns": null
       },
       "removedWidgets": [],
       "schema": [
        {
         "metadata": "{}",
         "name": "corr_price_earnings",
         "type": "\"double\""
        },
        {
         "metadata": "{}",
         "name": "corr_price_to_book",
         "type": "\"double\""
        },
        {
         "metadata": "{}",
         "name": "corr_price_to_cash_flow",
         "type": "\"double\""
        },
        {
         "metadata": "{}",
         "name": "corr_price_to_sales",
         "type": "\"double\""
        },
        {
         "metadata": "{}",
         "name": "corr_ebit_margin",
         "type": "\"double\""
        },
        {
         "metadata": "{}",
         "name": "corr_ebitda_margin",
         "type": "\"double\""
        },
        {
         "metadata": "{}",
         "name": "corr_gross_margin",
         "type": "\"double\""
        },
        {
         "metadata": "{}",
         "name": "corr_net_margin",
         "type": "\"double\""
        },
        {
         "metadata": "{}",
         "name": "corr_operating_margin",
         "type": "\"double\""
        },
        {
         "metadata": "{}",
         "name": "corr_return_on_assets",
         "type": "\"double\""
        },
        {
         "metadata": "{}",
         "name": "corr_return_on_equity",
         "type": "\"double\""
        }
       ],
       "type": "table"
      }
     },
     "output_type": "display_data"
    }
   ],
   "source": [
    "%sql\n",
    "SELECT\n",
    "    CORR(price, price_earnings) AS corr_price_earnings,\n",
    "    CORR(price, price_to_book) AS corr_price_to_book,\n",
    "    CORR(price, price_to_cash_flow) AS corr_price_to_cash_flow,\n",
    "    CORR(price, price_to_sales) AS corr_price_to_sales,\n",
    "    CORR(price, ebit_margin) AS corr_ebit_margin,\n",
    "    CORR(price, ebitda_margin) AS corr_ebitda_margin,\n",
    "    CORR(price, gross_margin) AS corr_gross_margin,\n",
    "    CORR(price, net_margin) AS corr_net_margin,\n",
    "    CORR(price, operating_margin) AS corr_operating_margin,\n",
    "    CORR(price, return_on_assets) AS corr_return_on_assets,\n",
    "    CORR(price, return_on_equity) AS corr_return_on_equity\n",
    "FROM \n",
    "    merged_ratios;\n"
   ]
  },
  {
   "cell_type": "markdown",
   "metadata": {
    "application/vnd.databricks.v1+cell": {
     "cellMetadata": {},
     "inputWidgets": {},
     "nuid": "573739f9-0478-4093-81c7-9385a515971f",
     "showTitle": false,
     "title": ""
    }
   },
   "source": [
    "\n",
    "- **Critério de Significância**: Consideramos um nível de significância de 5% (p < 0.05) para determinar se a correlação é estatisticamente significativa.\n",
    "- **Conclusão**:\n",
    "  - Nenhuma das correlações analisadas apresentou um p-valor menor que 0.05, indicando que **nenhuma das correlações é estatisticamente significativa** ao nível de 5%.\n",
    "\n",
    "Isso sugere que, com base nos dados fornecidos e no tamanho da amostra, não há evidências suficientes para afirmar que qualquer um desses indicadores financeiros tenha uma correlação significativa com a categorização das ações como baratas, caras ou neutras. \n",
    "\n",
    "### Quais Empresas Apresentam Maior Estabilidade Financeira?\n",
    "\n",
    "Para avaliar a estabilidade financeira, analisamos a variabilidade dos lucros por ação (EPS) de cada empresa. Menor variabilidade indica maior estabilidade.\n",
    "\n",
    "\n"
   ]
  },
  {
   "cell_type": "code",
   "execution_count": 0,
   "metadata": {
    "application/vnd.databricks.v1+cell": {
     "cellMetadata": {
      "byteLimit": 2048000,
      "implicitDf": true,
      "rowLimit": 10000
     },
     "inputWidgets": {},
     "nuid": "4b6567a6-9568-4900-95c8-81c50ea663cb",
     "showTitle": false,
     "title": ""
    }
   },
   "outputs": [
    {
     "output_type": "display_data",
     "data": {
      "text/html": [
       "<style scoped>\n",
       "  .table-result-container {\n",
       "    max-height: 300px;\n",
       "    overflow: auto;\n",
       "  }\n",
       "  table, th, td {\n",
       "    border: 1px solid black;\n",
       "    border-collapse: collapse;\n",
       "  }\n",
       "  th, td {\n",
       "    padding: 5px;\n",
       "  }\n",
       "  th {\n",
       "    text-align: left;\n",
       "  }\n",
       "</style><div class='table-result-container'><table class='table-result'><thead style='background-color: white'><tr><th>company</th><th>eps_volatility</th><th>avg_eps</th><th>avg_price_to_book</th><th>avg_net_margin</th><th>avg_gross_margin</th></tr></thead><tbody><tr><td>LWSA</td><td>0.022744881542088462</td><td>0.01388181818181818</td><td>4.5219</td><td>1.5661181818181817</td><td>44.117354545454546</td></tr><tr><td>GMAT</td><td>0.06727869010955208</td><td>0.403375</td><td>2.1646375</td><td>4.9963999999999995</td><td>22.812549999999998</td></tr><tr><td>RAIZ</td><td>0.07331671023716219</td><td>0.2234</td><td>2.3970000000000002</td><td>1.269825</td><td>5.764425</td></tr><tr><td>RDOR</td><td>0.10723100231343013</td><td>0.553825</td><td>6.6783125000000005</td><td>6.2108500000000015</td><td>21.787850000000002</td></tr><tr><td>ABEV</td><td>0.10978903719291394</td><td>0.7833782608695651</td><td>3.738956521739131</td><td>24.360721739130437</td><td>58.71346521739129</td></tr><tr><td>B3SA</td><td>0.12254749975813337</td><td>0.7267666666666667</td><td>3.1877999999999997</td><td>44.053358333333335</td><td>90.69388333333332</td></tr><tr><td>HAPV</td><td>0.12788734477869754</td><td>0.014924999999999999</td><td>7.001608333333333</td><td>4.629958333333334</td><td>28.39978333333333</td></tr><tr><td>POMO</td><td>0.13317114164271618</td><td>0.227074074074074</td><td>1.1879814814814813</td><td>6.9506000000000006</td><td>16.23336296296296</td></tr><tr><td>VAMO</td><td>0.16346610832655367</td><td>0.41924999999999996</td><td>5.228462500000001</td><td>12.8789875</td><td>38.51415</td></tr><tr><td>TOTS</td><td>0.1867678512389385</td><td>0.42247777777777773</td><td>5.532814814814816</td><td>11.451140740740742</td><td>66.01874444444445</td></tr></tbody></table></div>"
      ]
     },
     "metadata": {
      "application/vnd.databricks.v1+output": {
       "addedWidgets": {},
       "aggData": [],
       "aggError": "",
       "aggOverflow": false,
       "aggSchema": [],
       "aggSeriesLimitReached": false,
       "aggType": "",
       "arguments": {},
       "columnCustomDisplayInfos": {},
       "data": [
        [
         "LWSA",
         0.022744881542088462,
         0.01388181818181818,
         4.5219,
         1.5661181818181817,
         44.117354545454546
        ],
        [
         "GMAT",
         0.06727869010955208,
         0.403375,
         2.1646375,
         4.9963999999999995,
         22.812549999999998
        ],
        [
         "RAIZ",
         0.07331671023716219,
         0.2234,
         2.3970000000000002,
         1.269825,
         5.764425
        ],
        [
         "RDOR",
         0.10723100231343013,
         0.553825,
         6.6783125000000005,
         6.2108500000000015,
         21.787850000000002
        ],
        [
         "ABEV",
         0.10978903719291394,
         0.7833782608695651,
         3.738956521739131,
         24.360721739130437,
         58.71346521739129
        ],
        [
         "B3SA",
         0.12254749975813337,
         0.7267666666666667,
         3.1877999999999997,
         44.053358333333335,
         90.69388333333332
        ],
        [
         "HAPV",
         0.12788734477869754,
         0.014924999999999999,
         7.001608333333333,
         4.629958333333334,
         28.39978333333333
        ],
        [
         "POMO",
         0.13317114164271618,
         0.227074074074074,
         1.1879814814814813,
         6.9506000000000006,
         16.23336296296296
        ],
        [
         "VAMO",
         0.16346610832655367,
         0.41924999999999996,
         5.228462500000001,
         12.8789875,
         38.51415
        ],
        [
         "TOTS",
         0.1867678512389385,
         0.42247777777777773,
         5.532814814814816,
         11.451140740740742,
         66.01874444444445
        ]
       ],
       "datasetInfos": [],
       "dbfsResultPath": null,
       "isJsonSchema": true,
       "metadata": {},
       "overflow": false,
       "plotOptions": {
        "customPlotOptions": {},
        "displayType": "table",
        "pivotAggregation": null,
        "pivotColumns": null,
        "xColumns": null,
        "yColumns": null
       },
       "removedWidgets": [],
       "schema": [
        {
         "metadata": "{}",
         "name": "company",
         "type": "\"string\""
        },
        {
         "metadata": "{}",
         "name": "eps_volatility",
         "type": "\"double\""
        },
        {
         "metadata": "{}",
         "name": "avg_eps",
         "type": "\"double\""
        },
        {
         "metadata": "{}",
         "name": "avg_price_to_book",
         "type": "\"double\""
        },
        {
         "metadata": "{}",
         "name": "avg_net_margin",
         "type": "\"double\""
        },
        {
         "metadata": "{}",
         "name": "avg_gross_margin",
         "type": "\"double\""
        }
       ],
       "type": "table"
      }
     },
     "output_type": "display_data"
    }
   ],
   "source": [
    "%sql\n",
    "SELECT \n",
    "    company,\n",
    "    STDDEV(earnings_per_share) AS eps_volatility,\n",
    "    AVG(earnings_per_share) AS avg_eps,\n",
    "    AVG(price_to_book) AS avg_price_to_book,\n",
    "    AVG(net_margin) AS avg_net_margin,\n",
    "    AVG(gross_margin) AS avg_gross_margin\n",
    "FROM \n",
    "    merged_ratios\n",
    "GROUP BY \n",
    "    company\n",
    "ORDER BY \n",
    "    eps_volatility ASC\n",
    "LIMIT 10;\n"
   ]
  },
  {
   "cell_type": "markdown",
   "metadata": {
    "application/vnd.databricks.v1+cell": {
     "cellMetadata": {},
     "inputWidgets": {},
     "nuid": "06d15836-1336-4ee1-8de2-83e4772d28c5",
     "showTitle": false,
     "title": ""
    }
   },
   "source": [
    "\n",
    "Para determinar quais empresas apresentam maior estabilidade financeira com base nos dados fornecidos, podemos usar os seguintes critérios de estabilidade:\n",
    "\n",
    "1. **Baixa Volatilidade do EPS**: Empresas com menor volatilidade no EPS (Earnings Per Share) são geralmente mais estáveis.\n",
    "2. **Margens Altas e Consistentes**: Empresas com margens líquida e bruta mais altas e consistentes tendem a ser mais estáveis.\n",
    "3. **Baixo P/B**: Um menor valor de Price-to-Book (P/B) pode indicar que a empresa está sendo negociada a um preço mais próximo de seu valor contábil, sugerindo menos volatilidade.\n",
    "\n",
    "### Análise por Critério:\n",
    "\n",
    "1. **Baixa Volatilidade do EPS**:\n",
    "   - **Mais estáveis**: LWSA (0.023), GMAT (0.067)\n",
    "   - **Menos estáveis**: TOTS (0.187), VAMO (0.163)\n",
    "\n",
    "2. **Altas Margens Líquidas**:\n",
    "   - **Mais estáveis**: B3SA (44.053%), ABEV (24.361%)\n",
    "   - **Menos estáveis**: RAIZ (1.2698%), LWSA (1.5661%)\n",
    "\n",
    "3. **Altas Margens Brutas**:\n",
    "   - **Mais estáveis**: B3SA (90.694%), ABEV (58.713%)\n",
    "   - **Menos estáveis**: RAIZ (5.764%), GMAT (22.813%)\n",
    "\n",
    "4. **Baixo P/B**:\n",
    "   - **Mais estáveis**: POMO (1.188), GMAT (2.165)\n",
    "   - **Menos estáveis**: HAPV (7.002), RDOR (6.678)\n",
    "\n",
    "### Empresas com Maior Estabilidade Financeira:\n",
    "\n",
    "Combinando esses critérios, as empresas que aparecem mais frequentemente como estáveis são:\n",
    "\n",
    "1. **GMAT (Grupo Mateus)**:\n",
    "   - **Volatilidade do EPS**: Relativamente baixa (0.067)\n",
    "   - **Margem Líquida**: Moderada (4.996%)\n",
    "   - **Margem Bruta**: Baixa (22.813%)\n",
    "   - **P/B**: Baixo (2.165)\n",
    "\n",
    "2. **ABEV (Ambev)**:\n",
    "   - **Volatilidade do EPS**: Moderada (0.110)\n",
    "   - **Margem Líquida**: Alta (24.361%)\n",
    "   - **Margem Bruta**: Alta (58.713%)\n",
    "   - **P/B**: Moderado (3.739)\n",
    "\n",
    "3. **B3SA (B3)**:\n",
    "   - **Volatilidade do EPS**: Moderada (0.123)\n",
    "   - **Margem Líquida**: Muito alta (44.053%)\n",
    "   - **Margem Bruta**: Muito alta (90.694%)\n",
    "   - **P/B**: Moderado (3.188)\n",
    "\n",
    "### Conclusão:\n",
    "\n",
    "- **GMAT** se destaca por sua baixa volatilidade do EPS e baixo P/B, sugerindo estabilidade em termos de ganhos e avaliação.\n",
    "- **ABEV** e **B3SA** se destacam por suas margens líquida e bruta altas, indicando operações financeiramente saudáveis e estáveis.\n",
    "\n",
    "Essas três empresas são as mais estáveis financeiramente com base nos critérios analisados.\n",
    "\n",
    "### Como a Dívida Impacta o Desempenho das Empresas?\n",
    "\n",
    "Analisamos a correlação entre a dívida total e vários indicadores de desempenho para entender o impacto da dívida.\n",
    "\n",
    "\n"
   ]
  },
  {
   "cell_type": "code",
   "execution_count": 0,
   "metadata": {
    "application/vnd.databricks.v1+cell": {
     "cellMetadata": {
      "byteLimit": 2048000,
      "implicitDf": true,
      "rowLimit": 10000
     },
     "inputWidgets": {},
     "nuid": "faf14ae8-341e-431b-9239-562e3fa330cb",
     "showTitle": false,
     "title": ""
    }
   },
   "outputs": [
    {
     "output_type": "display_data",
     "data": {
      "text/html": [
       "<style scoped>\n",
       "  .table-result-container {\n",
       "    max-height: 300px;\n",
       "    overflow: auto;\n",
       "  }\n",
       "  table, th, td {\n",
       "    border: 1px solid black;\n",
       "    border-collapse: collapse;\n",
       "  }\n",
       "  th, td {\n",
       "    padding: 5px;\n",
       "  }\n",
       "  th {\n",
       "    text-align: left;\n",
       "  }\n",
       "</style><div class='table-result-container'><table class='table-result'><thead style='background-color: white'><tr><th>corr_debt_ebit_margin</th><th>corr_debt_net_margin</th><th>corr_debt_operating_margin</th><th>corr_debt_return_on_assets</th><th>corr_debt_return_on_equity</th></tr></thead><tbody><tr><td>-0.03560724464177867</td><td>-0.011363757300871935</td><td>-0.016574233409523655</td><td>6.459564966111978E-4</td><td>-0.6920845213392909</td></tr></tbody></table></div>"
      ]
     },
     "metadata": {
      "application/vnd.databricks.v1+output": {
       "addedWidgets": {},
       "aggData": [],
       "aggError": "",
       "aggOverflow": false,
       "aggSchema": [],
       "aggSeriesLimitReached": false,
       "aggType": "",
       "arguments": {},
       "columnCustomDisplayInfos": {},
       "data": [
        [
         -0.03560724464177867,
         -0.011363757300871935,
         -0.016574233409523655,
         6.459564966111978E-4,
         -0.6920845213392909
        ]
       ],
       "datasetInfos": [],
       "dbfsResultPath": null,
       "isJsonSchema": true,
       "metadata": {},
       "overflow": false,
       "plotOptions": {
        "customPlotOptions": {},
        "displayType": "table",
        "pivotAggregation": null,
        "pivotColumns": null,
        "xColumns": null,
        "yColumns": null
       },
       "removedWidgets": [],
       "schema": [
        {
         "metadata": "{}",
         "name": "corr_debt_ebit_margin",
         "type": "\"double\""
        },
        {
         "metadata": "{}",
         "name": "corr_debt_net_margin",
         "type": "\"double\""
        },
        {
         "metadata": "{}",
         "name": "corr_debt_operating_margin",
         "type": "\"double\""
        },
        {
         "metadata": "{}",
         "name": "corr_debt_return_on_assets",
         "type": "\"double\""
        },
        {
         "metadata": "{}",
         "name": "corr_debt_return_on_equity",
         "type": "\"double\""
        }
       ],
       "type": "table"
      }
     },
     "output_type": "display_data"
    }
   ],
   "source": [
    "%sql\n",
    "SELECT\n",
    "    CORR(total_debt, ebit_margin) AS corr_debt_ebit_margin,\n",
    "    CORR(total_debt, net_margin) AS corr_debt_net_margin,\n",
    "    CORR(total_debt, operating_margin) AS corr_debt_operating_margin,\n",
    "    CORR(total_debt, return_on_assets) AS corr_debt_return_on_assets,\n",
    "    CORR(total_debt, return_on_equity) AS corr_debt_return_on_equity\n",
    "FROM \n",
    "    merged_ratios;\n"
   ]
  },
  {
   "cell_type": "markdown",
   "metadata": {
    "application/vnd.databricks.v1+cell": {
     "cellMetadata": {},
     "inputWidgets": {},
     "nuid": "a93454f5-bf4d-4c5f-8d6a-ee3fd63d970b",
     "showTitle": false,
     "title": ""
    }
   },
   "source": [
    "\n",
    "- **1** indica uma relação positiva perfeita.\n",
    "- **-1** indica uma relação negativa perfeita.\n",
    "- **0** indica que não há relação linear.\n",
    "\n",
    "Com base nas correlações analisadas:\n",
    "\n",
    "- **Dívida e Margens (EBIT, Líquida e Operacional)**: A dívida tem um impacto ligeiramente negativo ou insignificante sobre as margens de lucro das empresas. A relação é fraca, sugerindo que a dívida não altera drasticamente essas métricas de desempenho em média.\n",
    "\n",
    "- **Dívida e ROA**: A dívida não parece ter uma influência significativa sobre o retorno sobre os ativos, indicando que as empresas podem ser igualmente eficientes em usar seus ativos para gerar lucros, independentemente do nível de dívida.\n",
    "\n",
    "- **Dívida e ROE**: A dívida tem um impacto fortemente negativo sobre o retorno sobre o patrimônio. Isso sugere que empresas com maiores níveis de dívida tendem a ter um retorno reduzido para os acionistas. A dívida adicional pode aumentar o risco financeiro e diminuir a rentabilidade do patrimônio dos acionistas, especialmente quando a dívida se torna pesada demais para ser gerenciada eficazmente.\n",
    "\n",
    "\n",
    "###  Quais Empresas Utilizam Seus Ativos de Forma Mais Eficiente?\n",
    "Identificamos as empresas que utilizam seus ativos de forma mais eficiente com base no giro dos ativos e no retorno sobre os ativos.\n",
    "\n"
   ]
  },
  {
   "cell_type": "code",
   "execution_count": 0,
   "metadata": {
    "application/vnd.databricks.v1+cell": {
     "cellMetadata": {
      "byteLimit": 2048000,
      "implicitDf": true,
      "rowLimit": 10000
     },
     "inputWidgets": {},
     "nuid": "68831f22-ac19-49e2-9478-d5f6e49765f8",
     "showTitle": false,
     "title": ""
    }
   },
   "outputs": [
    {
     "output_type": "display_data",
     "data": {
      "text/html": [
       "<style scoped>\n",
       "  .table-result-container {\n",
       "    max-height: 300px;\n",
       "    overflow: auto;\n",
       "  }\n",
       "  table, th, td {\n",
       "    border: 1px solid black;\n",
       "    border-collapse: collapse;\n",
       "  }\n",
       "  th, td {\n",
       "    padding: 5px;\n",
       "  }\n",
       "  th {\n",
       "    text-align: left;\n",
       "  }\n",
       "</style><div class='table-result-container'><table class='table-result'><thead style='background-color: white'><tr><th>company</th><th>avg_asset_turnover</th><th>avg_return_on_assets</th></tr></thead><tbody><tr><td>VBBR</td><td>3.7043500000000003</td><td>0.08230833333333333</td></tr><tr><td>UGPA</td><td>3.3102239999999994</td><td>0.05012799999999999</td></tr><tr><td>RAIZ</td><td>1.9116</td><td>0.022649999999999997</td></tr><tr><td>GMAT</td><td>1.6451</td><td>0.0821625</td></tr><tr><td>JBSS</td><td>1.5651185185185186</td><td>0.03574074074074074</td></tr><tr><td>MGLU</td><td>1.5284576923076922</td><td>0.015019230769230767</td></tr><tr><td>CRFB</td><td>1.3629416666666667</td><td>0.041874999999999996</td></tr><tr><td>BEEF</td><td>1.1924222222222223</td><td>-0.005122222222222226</td></tr><tr><td>ARZZ</td><td>1.1040333333333334</td><td>0.11185555555555557</td></tr><tr><td>MRFG</td><td>1.098862962962963</td><td>0.018696296296296294</td></tr></tbody></table></div>"
      ]
     },
     "metadata": {
      "application/vnd.databricks.v1+output": {
       "addedWidgets": {},
       "aggData": [],
       "aggError": "",
       "aggOverflow": false,
       "aggSchema": [],
       "aggSeriesLimitReached": false,
       "aggType": "",
       "arguments": {},
       "columnCustomDisplayInfos": {},
       "data": [
        [
         "VBBR",
         3.7043500000000003,
         0.08230833333333333
        ],
        [
         "UGPA",
         3.3102239999999994,
         0.05012799999999999
        ],
        [
         "RAIZ",
         1.9116,
         0.022649999999999997
        ],
        [
         "GMAT",
         1.6451,
         0.0821625
        ],
        [
         "JBSS",
         1.5651185185185186,
         0.03574074074074074
        ],
        [
         "MGLU",
         1.5284576923076922,
         0.015019230769230767
        ],
        [
         "CRFB",
         1.3629416666666667,
         0.041874999999999996
        ],
        [
         "BEEF",
         1.1924222222222223,
         -0.005122222222222226
        ],
        [
         "ARZZ",
         1.1040333333333334,
         0.11185555555555557
        ],
        [
         "MRFG",
         1.098862962962963,
         0.018696296296296294
        ]
       ],
       "datasetInfos": [],
       "dbfsResultPath": null,
       "isJsonSchema": true,
       "metadata": {},
       "overflow": false,
       "plotOptions": {
        "customPlotOptions": {},
        "displayType": "table",
        "pivotAggregation": null,
        "pivotColumns": null,
        "xColumns": null,
        "yColumns": null
       },
       "removedWidgets": [],
       "schema": [
        {
         "metadata": "{}",
         "name": "company",
         "type": "\"string\""
        },
        {
         "metadata": "{}",
         "name": "avg_asset_turnover",
         "type": "\"double\""
        },
        {
         "metadata": "{}",
         "name": "avg_return_on_assets",
         "type": "\"double\""
        }
       ],
       "type": "table"
      }
     },
     "output_type": "display_data"
    }
   ],
   "source": [
    "%sql\n",
    "SELECT \n",
    "    company,\n",
    "    AVG(asset_turnover) AS avg_asset_turnover,\n",
    "    AVG(return_on_assets) AS avg_return_on_assets\n",
    "FROM \n",
    "    merged_ratios\n",
    "GROUP BY \n",
    "    company\n",
    "ORDER BY \n",
    "    avg_asset_turnover DESC\n",
    "LIMIT 10;\n"
   ]
  },
  {
   "cell_type": "markdown",
   "metadata": {
    "application/vnd.databricks.v1+cell": {
     "cellMetadata": {},
     "inputWidgets": {},
     "nuid": "ea0353f5-ca94-4774-8bdb-f9f494c08dfb",
     "showTitle": false,
     "title": ""
    }
   },
   "source": [
    "\n",
    "1. **Giro dos Ativos (Asset Turnover)**: Mede a eficiência com que uma empresa utiliza seus ativos para gerar vendas. Um giro de ativos mais alto indica que a empresa está gerando mais receita para cada unidade monetária de ativo.\n",
    "\n",
    "2. **Retorno sobre Ativos (Return on Assets - ROA)**: Mede a eficiência com que uma empresa utiliza seus ativos para gerar lucro. Um ROA mais alto indica que a empresa está gerando mais lucro para cada unidade monetária de ativo.\n",
    "\n",
    "\n",
    "### Empresas com Maior Eficiência no Uso dos Ativos\n",
    "\n",
    "1. **VBBR (Vibra Energia S.A.)**\n",
    "   - **Giro dos Ativos**: 3.7044 (Mais alto entre as empresas listadas)\n",
    "   - **ROA**: 0.0823 (Segundo mais alto)\n",
    "   - **Conclusão**: VBBR utiliza seus ativos de forma extremamente eficiente, gerando uma quantidade significativa de receita e lucro em relação aos seus ativos.\n",
    "\n",
    "2. **UGPA (Ultrapar Participações S.A.)**\n",
    "   - **Giro dos Ativos**: 3.3102 (Segundo mais alto)\n",
    "   - **ROA**: 0.0501\n",
    "   - **Conclusão**: UGPA também demonstra alta eficiência na utilização de seus ativos para gerar receita, sendo a segunda em termos de giro dos ativos.\n",
    "\n",
    "3. **ARZZ (Arezzo&Co S.A.)**\n",
    "   - **Giro dos Ativos**: 1.1040\n",
    "   - **ROA**: 0.1119 (Mais alto entre as empresas listadas)\n",
    "   - **Conclusão**: ARZZ tem o maior ROA, indicando que é extremamente eficiente em converter seus ativos em lucros, apesar de ter um giro dos ativos menor comparado a VBBR e UGPA.\n",
    "\n",
    "4. **GMAT (Grupo Mateus)**\n",
    "   - **Giro dos Ativos**: 1.6451\n",
    "   - **ROA**: 0.0822 (Quase igual ao VBBR)\n",
    "   - **Conclusão**: GMAT também utiliza seus ativos de maneira eficiente, com um bom equilíbrio entre giro dos ativos e retorno sobre ativos.\n",
    "\n",
    "### Observações Adicionais\n",
    "\n",
    "- **BEEF (Minerva S.A.)** apresenta um retorno sobre ativos negativo (-0.0051), indicando uma possível ineficiência ou problemas de rentabilidade em relação aos seus ativos.\n",
    "- **MGLU (Magazine Luiza S.A.)** e **RAIZ (Raízen S.A.)** têm giros dos ativos relativamente altos, mas seus retornos sobre ativos são baixos, sugerindo que, embora gerem receita de maneira eficiente, não estão convertendo isso em lucros de forma eficaz.\n",
    "- **JBSS (JBS S.A.)** tem um giro dos ativos moderado e um retorno sobre ativos razoável, mostrando um desempenho equilibrado.\n",
    "\n",
    "### Conclusão\n",
    "\n",
    "- **VBBR** e **UGPA** se destacam pela alta eficiência na geração de receita a partir de seus ativos.\n",
    "- **ARZZ** se destaca pela eficiência na geração de lucros a partir de seus ativos.\n",
    "- Empresas como **GMAT** apresentam um bom equilíbrio entre o uso dos ativos para gerar receita e lucro.\n",
    "\n",
    "\n",
    "### Próximos Passos\n",
    "\n",
    "Para uma análise mais detalhada, poderíamos:\n",
    "- Comparar essas métricas com benchmarks ou índices do mercado para entender o desempenho relativo.\n",
    "- Analisar eventos externos que possam ter impactado drasticamente algumas métricas em certos períodos.\n",
    "- Avaliar a correlação entre diferentes métricas para entender como elas influenciam umas às outras.\n"
   ]
  }
 ],
 "metadata": {
  "application/vnd.databricks.v1+notebook": {
   "dashboards": [],
   "environmentMetadata": null,
   "language": "python",
   "notebookMetadata": {
    "mostRecentlyExecutedCommandWithImplicitDF": {
     "commandId": 3038262024521856,
     "dataframes": [
      "_sqldf"
     ]
    },
    "pythonIndentUnit": 4
   },
   "notebookName": "Data collector",
   "widgets": {}
  }
 },
 "nbformat": 4,
 "nbformat_minor": 0
}
